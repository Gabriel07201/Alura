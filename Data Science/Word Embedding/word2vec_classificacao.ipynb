{
  "nbformat": 4,
  "nbformat_minor": 0,
  "metadata": {
    "colab": {
      "provenance": [],
      "mount_file_id": "1K099YqmO2ntd3HYCmON6J1JAQUBg6DNx",
      "authorship_tag": "ABX9TyPgWUYUccsZTekVK/UneUdW",
      "include_colab_link": true
    },
    "kernelspec": {
      "name": "python3",
      "display_name": "Python 3"
    },
    "language_info": {
      "name": "python"
    }
  },
  "cells": [
    {
      "cell_type": "markdown",
      "metadata": {
        "id": "view-in-github",
        "colab_type": "text"
      },
      "source": [
        "<a href=\"https://colab.research.google.com/github/Gabriel07201/Alura/blob/main/Data%20Science/Word%20Embedding/word2vec_classificacao.ipynb\" target=\"_parent\"><img src=\"https://colab.research.google.com/assets/colab-badge.svg\" alt=\"Open In Colab\"/></a>"
      ]
    },
    {
      "cell_type": "code",
      "execution_count": 10,
      "metadata": {
        "colab": {
          "base_uri": "https://localhost:8080/"
        },
        "id": "MK4GbRwVNhpk",
        "outputId": "c7a596ae-41c0-40a5-9171-e5760680e599"
      },
      "outputs": [
        {
          "output_type": "stream",
          "name": "stdout",
          "text": [
            "/usr/local/lib/python3.8/dist-packages/torch/cuda/__init__.py:497: UserWarning: Can't initialize NVML\n",
            "  warnings.warn(\"Can't initialize NVML\")\n",
            "2023-02-10 00:01:58.637333: E tensorflow/stream_executor/cuda/cuda_driver.cc:271] failed call to cuInit: CUDA_ERROR_NO_DEVICE: no CUDA-capable device is detected\n",
            "Looking in indexes: https://pypi.org/simple, https://us-python.pkg.dev/colab-wheels/public/simple/\n",
            "Collecting pt-core-news-sm==3.4.0\n",
            "  Downloading https://github.com/explosion/spacy-models/releases/download/pt_core_news_sm-3.4.0/pt_core_news_sm-3.4.0-py3-none-any.whl (13.0 MB)\n",
            "\u001b[2K     \u001b[90m━━━━━━━━━━━━━━━━━━━━━━━━━━━━━━━━━━━━━━━━\u001b[0m \u001b[32m13.0/13.0 MB\u001b[0m \u001b[31m13.3 MB/s\u001b[0m eta \u001b[36m0:00:00\u001b[0m\n",
            "\u001b[?25hRequirement already satisfied: spacy<3.5.0,>=3.4.0 in /usr/local/lib/python3.8/dist-packages (from pt-core-news-sm==3.4.0) (3.4.4)\n",
            "Requirement already satisfied: typer<0.8.0,>=0.3.0 in /usr/local/lib/python3.8/dist-packages (from spacy<3.5.0,>=3.4.0->pt-core-news-sm==3.4.0) (0.7.0)\n",
            "Requirement already satisfied: pydantic!=1.8,!=1.8.1,<1.11.0,>=1.7.4 in /usr/local/lib/python3.8/dist-packages (from spacy<3.5.0,>=3.4.0->pt-core-news-sm==3.4.0) (1.10.4)\n",
            "Requirement already satisfied: srsly<3.0.0,>=2.4.3 in /usr/local/lib/python3.8/dist-packages (from spacy<3.5.0,>=3.4.0->pt-core-news-sm==3.4.0) (2.4.5)\n",
            "Requirement already satisfied: catalogue<2.1.0,>=2.0.6 in /usr/local/lib/python3.8/dist-packages (from spacy<3.5.0,>=3.4.0->pt-core-news-sm==3.4.0) (2.0.8)\n",
            "Requirement already satisfied: murmurhash<1.1.0,>=0.28.0 in /usr/local/lib/python3.8/dist-packages (from spacy<3.5.0,>=3.4.0->pt-core-news-sm==3.4.0) (1.0.9)\n",
            "Requirement already satisfied: packaging>=20.0 in /usr/local/lib/python3.8/dist-packages (from spacy<3.5.0,>=3.4.0->pt-core-news-sm==3.4.0) (23.0)\n",
            "Requirement already satisfied: jinja2 in /usr/local/lib/python3.8/dist-packages (from spacy<3.5.0,>=3.4.0->pt-core-news-sm==3.4.0) (2.11.3)\n",
            "Requirement already satisfied: thinc<8.2.0,>=8.1.0 in /usr/local/lib/python3.8/dist-packages (from spacy<3.5.0,>=3.4.0->pt-core-news-sm==3.4.0) (8.1.7)\n",
            "Requirement already satisfied: spacy-legacy<3.1.0,>=3.0.10 in /usr/local/lib/python3.8/dist-packages (from spacy<3.5.0,>=3.4.0->pt-core-news-sm==3.4.0) (3.0.12)\n",
            "Requirement already satisfied: spacy-loggers<2.0.0,>=1.0.0 in /usr/local/lib/python3.8/dist-packages (from spacy<3.5.0,>=3.4.0->pt-core-news-sm==3.4.0) (1.0.4)\n",
            "Requirement already satisfied: wasabi<1.1.0,>=0.9.1 in /usr/local/lib/python3.8/dist-packages (from spacy<3.5.0,>=3.4.0->pt-core-news-sm==3.4.0) (0.10.1)\n",
            "Requirement already satisfied: cymem<2.1.0,>=2.0.2 in /usr/local/lib/python3.8/dist-packages (from spacy<3.5.0,>=3.4.0->pt-core-news-sm==3.4.0) (2.0.7)\n",
            "Requirement already satisfied: numpy>=1.15.0 in /usr/local/lib/python3.8/dist-packages (from spacy<3.5.0,>=3.4.0->pt-core-news-sm==3.4.0) (1.21.6)\n",
            "Requirement already satisfied: tqdm<5.0.0,>=4.38.0 in /usr/local/lib/python3.8/dist-packages (from spacy<3.5.0,>=3.4.0->pt-core-news-sm==3.4.0) (4.64.1)\n",
            "Requirement already satisfied: setuptools in /usr/local/lib/python3.8/dist-packages (from spacy<3.5.0,>=3.4.0->pt-core-news-sm==3.4.0) (57.4.0)\n",
            "Requirement already satisfied: langcodes<4.0.0,>=3.2.0 in /usr/local/lib/python3.8/dist-packages (from spacy<3.5.0,>=3.4.0->pt-core-news-sm==3.4.0) (3.3.0)\n",
            "Requirement already satisfied: preshed<3.1.0,>=3.0.2 in /usr/local/lib/python3.8/dist-packages (from spacy<3.5.0,>=3.4.0->pt-core-news-sm==3.4.0) (3.0.8)\n",
            "Requirement already satisfied: smart-open<7.0.0,>=5.2.1 in /usr/local/lib/python3.8/dist-packages (from spacy<3.5.0,>=3.4.0->pt-core-news-sm==3.4.0) (6.3.0)\n",
            "Requirement already satisfied: requests<3.0.0,>=2.13.0 in /usr/local/lib/python3.8/dist-packages (from spacy<3.5.0,>=3.4.0->pt-core-news-sm==3.4.0) (2.25.1)\n",
            "Requirement already satisfied: pathy>=0.3.5 in /usr/local/lib/python3.8/dist-packages (from spacy<3.5.0,>=3.4.0->pt-core-news-sm==3.4.0) (0.10.1)\n",
            "Requirement already satisfied: typing-extensions>=4.2.0 in /usr/local/lib/python3.8/dist-packages (from pydantic!=1.8,!=1.8.1,<1.11.0,>=1.7.4->spacy<3.5.0,>=3.4.0->pt-core-news-sm==3.4.0) (4.4.0)\n",
            "Requirement already satisfied: certifi>=2017.4.17 in /usr/local/lib/python3.8/dist-packages (from requests<3.0.0,>=2.13.0->spacy<3.5.0,>=3.4.0->pt-core-news-sm==3.4.0) (2022.12.7)\n",
            "Requirement already satisfied: idna<3,>=2.5 in /usr/local/lib/python3.8/dist-packages (from requests<3.0.0,>=2.13.0->spacy<3.5.0,>=3.4.0->pt-core-news-sm==3.4.0) (2.10)\n",
            "Requirement already satisfied: chardet<5,>=3.0.2 in /usr/local/lib/python3.8/dist-packages (from requests<3.0.0,>=2.13.0->spacy<3.5.0,>=3.4.0->pt-core-news-sm==3.4.0) (4.0.0)\n",
            "Requirement already satisfied: urllib3<1.27,>=1.21.1 in /usr/local/lib/python3.8/dist-packages (from requests<3.0.0,>=2.13.0->spacy<3.5.0,>=3.4.0->pt-core-news-sm==3.4.0) (1.24.3)\n",
            "Requirement already satisfied: confection<1.0.0,>=0.0.1 in /usr/local/lib/python3.8/dist-packages (from thinc<8.2.0,>=8.1.0->spacy<3.5.0,>=3.4.0->pt-core-news-sm==3.4.0) (0.0.4)\n",
            "Requirement already satisfied: blis<0.8.0,>=0.7.8 in /usr/local/lib/python3.8/dist-packages (from thinc<8.2.0,>=8.1.0->spacy<3.5.0,>=3.4.0->pt-core-news-sm==3.4.0) (0.7.9)\n",
            "Requirement already satisfied: click<9.0.0,>=7.1.1 in /usr/local/lib/python3.8/dist-packages (from typer<0.8.0,>=0.3.0->spacy<3.5.0,>=3.4.0->pt-core-news-sm==3.4.0) (7.1.2)\n",
            "Requirement already satisfied: MarkupSafe>=0.23 in /usr/local/lib/python3.8/dist-packages (from jinja2->spacy<3.5.0,>=3.4.0->pt-core-news-sm==3.4.0) (2.0.1)\n",
            "\u001b[38;5;2m✔ Download and installation successful\u001b[0m\n",
            "You can now load the package via spacy.load('pt_core_news_sm')\n"
          ]
        }
      ],
      "source": [
        "!python -m spacy download pt_core_news_sm"
      ]
    },
    {
      "cell_type": "code",
      "source": [
        "from gensim.models import KeyedVectors\n",
        "\n",
        "w2v_modelo_cbow = KeyedVectors.load_word2vec_format('/content/drive/MyDrive/Cursos Alura/Word2Vec/modelo_cbow.txt')\n",
        "w2v_modelo_sg = KeyedVectors.load_word2vec_format('/content/drive/MyDrive/Cursos Alura/Word2Vec/modelo_skipgram.txt')"
      ],
      "metadata": {
        "id": "_Ril8nHyQile"
      },
      "execution_count": 16,
      "outputs": []
    },
    {
      "cell_type": "code",
      "source": [
        "import spacy\n",
        "\n",
        "nlp = spacy.load('pt_core_news_sm', disable=['paser', 'ner', 'tagger', 'textcat'])\n",
        "def tokenizador(texto):\n",
        "  doc = nlp(texto)\n",
        "  tokens_validos = []\n",
        "  for token in doc:\n",
        "    e_valido = not token.is_stop and token.is_alpha\n",
        "    if e_valido:\n",
        "      tokens_validos.append(token.text.lower())\n",
        "  return tokens_validos\n",
        "\n",
        "texto = 'Rio de Janeiro 1242341 ****** @#$  é uma cidade ]maravilhosa!'\n",
        "tokens = tokenizador(texto)\n",
        "tokens"
      ],
      "metadata": {
        "colab": {
          "base_uri": "https://localhost:8080/"
        },
        "id": "192qEl82OY1U",
        "outputId": "7dd03b31-71f8-40a7-989b-efc93990f977"
      },
      "execution_count": 17,
      "outputs": [
        {
          "output_type": "execute_result",
          "data": {
            "text/plain": [
              "['rio', 'janeiro', 'cidade', 'maravilhosa']"
            ]
          },
          "metadata": {},
          "execution_count": 17
        }
      ]
    },
    {
      "cell_type": "code",
      "source": [
        "import numpy as np\n",
        "\n",
        "def combinacao_de_vetores_por_soma(palavras, modelo):\n",
        "  vetor_resultante = np.zeros(300)\n",
        "  for pn in palavras:\n",
        "    try:\n",
        "      vetor_resultante += modelo.get_vector(pn)\n",
        "    except KeyError:\n",
        "      pass\n",
        "  return vetor_resultante"
      ],
      "metadata": {
        "id": "gHMABwaNOYP3"
      },
      "execution_count": 15,
      "outputs": []
    },
    {
      "cell_type": "code",
      "source": [
        "vetor_texto =  combinacao_de_vetores_por_soma(tokens, w2v_modelo_cbow)\n",
        "print(len(vetor_texto))\n",
        "print(vetor_texto)"
      ],
      "metadata": {
        "id": "WiJKU-hfQUfx",
        "colab": {
          "base_uri": "https://localhost:8080/"
        },
        "outputId": "fe360b5a-1a54-4621-b4a0-fdf8ab68a84f"
      },
      "execution_count": 19,
      "outputs": [
        {
          "output_type": "stream",
          "name": "stdout",
          "text": [
            "300\n",
            "[-1.17634246 -1.14019378 -0.9090994  -2.36575409  1.15502058  0.14122358\n",
            "  0.52115718 -1.06832685  0.67814177 -2.49323627 -0.3578898  -2.35580641\n",
            "  0.09010491 -2.24757112 -1.43412417 -0.19769326  0.2089836   0.02600077\n",
            " -0.00425345  0.71724978  0.9109519   0.05877449  1.40488479 -0.86572702\n",
            "  0.06373351 -0.33606984  0.3751256  -0.78106537  0.43073519  0.69871645\n",
            " -0.72812381  1.6278627   2.35009569 -0.25385038 -2.20157483 -0.43948415\n",
            " -1.61391167  0.55847844 -0.25029335 -0.63947171  0.30373776 -1.20318091\n",
            "  0.12003119 -0.61013848  0.40871848 -0.75491042 -1.76372492 -0.56270982\n",
            " -1.65017164  2.75028192 -1.34849083  1.07781331 -0.43790426 -0.9872654\n",
            " -0.97565861 -2.60821539 -1.52834965  1.11400255 -0.13607264  0.39844404\n",
            "  2.1084576   0.06216897  2.14688119 -0.25600845 -0.46715367  0.97735345\n",
            " -4.13654983  1.03018686 -1.90932251 -0.16238049  0.6851853   0.30515751\n",
            " -1.54601949  2.11195937 -2.3290835  -1.74233409  0.99058561 -1.10934395\n",
            " -0.52660003  0.6439026  -0.54667366 -0.75460219 -1.66673347 -0.59309259\n",
            " -0.80337765 -1.08444113 -0.73911577 -1.92143404  0.1697277   2.39452982\n",
            "  0.72216576 -3.00288248 -0.72499694 -1.44634885 -0.01786181 -0.25973083\n",
            "  0.11292183  1.05854554 -2.38357982 -0.59491438  2.46963345  1.48475905\n",
            " -0.32487503  1.39916664 -2.49143054 -1.34258279  1.34701762 -0.77415454\n",
            " -0.43919869 -2.31994775  0.19461341 -1.83368456  0.66559565  0.81886306\n",
            "  1.71611457  0.86582592 -1.35582735  0.83551913  2.16213478  2.25402686\n",
            "  0.5927975  -0.60290354 -2.41816947  0.9240583   1.46913186  0.34132251\n",
            " -0.46319398  0.88074841  0.04154579  1.84602076 -0.34164729 -1.3735929\n",
            "  0.16442531 -0.08108398 -1.28731766  0.94324039 -1.56068613 -0.28639963\n",
            "  2.4093543   1.17869517  0.84824246  1.80366004  1.54823914 -1.67038254\n",
            " -0.3998925   3.55687648  0.04864869 -0.20961809  1.10631071  2.38900825\n",
            " -1.96717761 -1.28320867 -0.73662317 -1.10533974  1.3253808  -0.70355535\n",
            " -1.38925539  0.95343547 -0.52895908 -1.83756181  1.59723857 -2.19171032\n",
            "  2.03569773 -1.52512127 -0.65440249 -1.89040184 -0.54897772  1.18162493\n",
            "  0.3648462  -0.68907149  0.27728577  3.02345029 -1.29763737  0.40240411\n",
            " -4.06291068  2.22340208 -1.95322435 -0.05803874 -2.09280276 -0.55065345\n",
            " -1.45572402 -1.67375811  1.24504215 -0.481168   -1.76673564  0.18591256\n",
            " -1.12451869  0.13851818  1.31106512  1.64899051  2.65645558 -0.13435208\n",
            " -0.19642282 -1.04718959  0.51317116  1.16597752 -0.85809159  1.16493353\n",
            " -0.65793666  0.13722593 -1.55850969  3.66057089  1.65398256 -0.52388267\n",
            "  0.20466084 -2.09836763 -1.01811866  0.01219635  1.03253677 -2.27568468\n",
            "  2.32614443 -0.22557062 -1.11529689  0.99879247  0.35527068  0.46612235\n",
            " -0.10308564  1.1839874   0.57981816  1.30815685 -1.99122202  0.2667898\n",
            "  1.74031842 -0.9976644  -0.04967352  0.77794831  0.59336382 -1.04111502\n",
            " -1.92550874  0.89488275 -1.30253974  0.45578244 -0.60421738  3.14388189\n",
            "  2.66137917  0.79253727  1.5455599   0.03350188  0.7287375  -1.88964402\n",
            "  0.03500131 -0.3927055  -1.80037905  1.70512524  0.00587341 -1.24210406\n",
            " -0.38368491  2.22672451 -1.33915105  0.79931489 -2.21549767  0.43437189\n",
            " -0.94399802 -1.22113353  0.92735443  0.72668023 -0.47409365  1.57422343\n",
            "  1.22889663 -0.18873011 -1.07213533  0.28409551 -1.00287798  1.30698925\n",
            " -1.40955321 -1.63914217  1.04210308 -0.63513118  1.06663518  0.75954446\n",
            " -0.87971719  0.86838773  0.34797484 -1.05851671 -1.36070673  0.88292807\n",
            "  1.68525794 -2.36503766 -0.5092102   0.12384764 -0.61795162 -1.1210926\n",
            "  0.67019922  0.22363808 -2.16803858 -1.22902447 -0.81555422  0.14410521\n",
            " -1.31525803  1.16961876 -1.27558184 -0.70216626  2.65720582  0.27442983\n",
            " -1.49558518 -0.17263595  1.27132295 -0.41918641  1.9523865  -0.48391001]\n"
          ]
        }
      ]
    },
    {
      "cell_type": "code",
      "source": [
        "def matriz_vetores(textos, modelo):\n",
        "  x = len(textos)\n",
        "  y = 300\n",
        "  matriz = np.zeros((x, y))\n",
        "  for i in range(x):\n",
        "    palavras = tokenizador(textos.iloc[i])\n",
        "    matriz[i] = combinacao_de_vetores_por_soma(palavras, modelo)\n",
        "  return matriz"
      ],
      "metadata": {
        "id": "f8zgh5xhNpvH"
      },
      "execution_count": 20,
      "outputs": []
    },
    {
      "cell_type": "code",
      "source": [
        "import pandas as pd\n",
        "\n",
        "artigo_treino = pd.read_csv(r'/content/drive/MyDrive/Cursos Alura/Word2Vec/treino.csv')\n",
        "artigo_teste = pd.read_csv(r'/content/drive/MyDrive/Cursos Alura/Word2Vec/teste.csv')"
      ],
      "metadata": {
        "id": "i-7yTjkQq846"
      },
      "execution_count": 21,
      "outputs": []
    },
    {
      "cell_type": "code",
      "source": [
        "matriz_vetores_treino_cbow = matriz_vetores(artigo_treino['title'], w2v_modelo_cbow)\n",
        "matriz_vetores_teste_cbow = matriz_vetores(artigo_teste['title'], w2v_modelo_cbow)\n",
        "print(matriz_vetores_treino_cbow.shape)\n",
        "print(matriz_vetores_teste_cbow.shape)"
      ],
      "metadata": {
        "colab": {
          "base_uri": "https://localhost:8080/"
        },
        "id": "vEmYWcH1pyN0",
        "outputId": "fabb51f9-845c-4d4b-ffd1-3f0d8825af1c"
      },
      "execution_count": 22,
      "outputs": [
        {
          "output_type": "stream",
          "name": "stdout",
          "text": [
            "(90000, 300)\n",
            "(20513, 300)\n"
          ]
        }
      ]
    },
    {
      "cell_type": "code",
      "source": [
        "from sklearn.linear_model import LogisticRegression\n",
        "from sklearn.metrics import classification_report\n",
        "\n",
        "def classificador(modelo, x_treino, y_treino, x_teste, y_teste):\n",
        "  rl = LogisticRegression(max_iter=800)\n",
        "  rl.fit(x_treino, y_treino)\n",
        "  categorias = rl.predict(x_teste)\n",
        "  resultados = classification_report(y_teste, categorias)\n",
        "  print(resultados)\n",
        "  return rl\n",
        "\n",
        "rl_cbow = classificador(w2v_modelo_cbow, matriz_vetores_treino_cbow, artigo_treino['category'], matriz_vetores_teste_cbow, artigo_teste['category'])"
      ],
      "metadata": {
        "colab": {
          "base_uri": "https://localhost:8080/"
        },
        "id": "g14pR-MBrOQa",
        "outputId": "524f8fb0-0105-4688-ab69-2e9d3c73eb41"
      },
      "execution_count": 23,
      "outputs": [
        {
          "output_type": "stream",
          "name": "stdout",
          "text": [
            "              precision    recall  f1-score   support\n",
            "\n",
            "     colunas       0.80      0.71      0.75      6103\n",
            "   cotidiano       0.63      0.80      0.71      1698\n",
            "     esporte       0.93      0.86      0.89      4663\n",
            "   ilustrada       0.13      0.85      0.23       131\n",
            "     mercado       0.83      0.78      0.81      5867\n",
            "       mundo       0.74      0.83      0.78      2051\n",
            "\n",
            "    accuracy                           0.78     20513\n",
            "   macro avg       0.68      0.81      0.69     20513\n",
            "weighted avg       0.82      0.78      0.80     20513\n",
            "\n"
          ]
        }
      ]
    },
    {
      "cell_type": "code",
      "source": [
        "matriz_vetores_treino_sg = matriz_vetores(artigo_treino['title'], w2v_modelo_sg)\n",
        "matriz_vetores_teste_sg = matriz_vetores(artigo_teste['title'], w2v_modelo_sg)\n",
        "rl_sg = classificador(w2v_modelo_sg, matriz_vetores_treino_sg, artigo_treino['category'], matriz_vetores_teste_sg, artigo_teste['category'])"
      ],
      "metadata": {
        "colab": {
          "base_uri": "https://localhost:8080/"
        },
        "id": "UubblFRQEBeq",
        "outputId": "4e38c56d-f356-41c3-cee5-d731cb101487"
      },
      "execution_count": 24,
      "outputs": [
        {
          "output_type": "stream",
          "name": "stdout",
          "text": [
            "              precision    recall  f1-score   support\n",
            "\n",
            "     colunas       0.81      0.71      0.76      6103\n",
            "   cotidiano       0.65      0.80      0.72      1698\n",
            "     esporte       0.93      0.88      0.90      4663\n",
            "   ilustrada       0.14      0.89      0.25       131\n",
            "     mercado       0.84      0.79      0.82      5867\n",
            "       mundo       0.75      0.84      0.79      2051\n",
            "\n",
            "    accuracy                           0.79     20513\n",
            "   macro avg       0.69      0.82      0.70     20513\n",
            "weighted avg       0.82      0.79      0.80     20513\n",
            "\n"
          ]
        }
      ]
    },
    {
      "cell_type": "code",
      "source": [
        "import pickle\n",
        "\n",
        "with open('/content/drive/MyDrive/Cursos Alura/Word2Vec/rl_cbow.pkl', 'wb') as f:\n",
        "  pickle.dump(rl_cbow, f)"
      ],
      "metadata": {
        "id": "MbybEaJSEwbB"
      },
      "execution_count": 27,
      "outputs": []
    },
    {
      "cell_type": "code",
      "source": [
        "import pickle\n",
        "\n",
        "with open('/content/drive/MyDrive/Cursos Alura/Word2Vec/rl_sg.pkl', 'wb') as f:\n",
        "  pickle.dump(rl_sg, f)"
      ],
      "metadata": {
        "id": "Yo9q_CSRF-0n"
      },
      "execution_count": 28,
      "outputs": []
    },
    {
      "cell_type": "code",
      "source": [],
      "metadata": {
        "id": "6yYDN1GKGGeq"
      },
      "execution_count": null,
      "outputs": []
    }
  ]
}