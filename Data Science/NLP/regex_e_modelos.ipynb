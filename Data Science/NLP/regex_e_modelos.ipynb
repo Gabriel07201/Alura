{
 "cells": [
  {
   "cell_type": "code",
   "execution_count": 1,
   "metadata": {},
   "outputs": [],
   "source": [
    "import pandas as pd"
   ]
  },
  {
   "cell_type": "code",
   "execution_count": 2,
   "metadata": {},
   "outputs": [],
   "source": [
    "dados_portugues = pd.read_csv('stackoverflow_portugues.csv')\n",
    "dados_ingles = pd.read_csv('stackoverflow_ingles.csv')"
   ]
  },
  {
   "cell_type": "code",
   "execution_count": 3,
   "metadata": {},
   "outputs": [
    {
     "data": {
      "text/html": [
       "<div>\n",
       "<style scoped>\n",
       "    .dataframe tbody tr th:only-of-type {\n",
       "        vertical-align: middle;\n",
       "    }\n",
       "\n",
       "    .dataframe tbody tr th {\n",
       "        vertical-align: top;\n",
       "    }\n",
       "\n",
       "    .dataframe thead th {\n",
       "        text-align: right;\n",
       "    }\n",
       "</style>\n",
       "<table border=\"1\" class=\"dataframe\">\n",
       "  <thead>\n",
       "    <tr style=\"text-align: right;\">\n",
       "      <th></th>\n",
       "      <th>Id</th>\n",
       "      <th>Título</th>\n",
       "      <th>Questão</th>\n",
       "      <th>Tags</th>\n",
       "      <th>Pontuação</th>\n",
       "      <th>Visualizações</th>\n",
       "    </tr>\n",
       "  </thead>\n",
       "  <tbody>\n",
       "    <tr>\n",
       "      <th>0</th>\n",
       "      <td>2402</td>\n",
       "      <td>Como fazer hash de senhas de forma segura?</td>\n",
       "      <td>&lt;p&gt;Se eu fizer o &lt;em&gt;&lt;a href=\"http://pt.wikipe...</td>\n",
       "      <td>&lt;hash&gt;&lt;segurança&gt;&lt;senhas&gt;&lt;criptografia&gt;</td>\n",
       "      <td>350</td>\n",
       "      <td>22367</td>\n",
       "    </tr>\n",
       "    <tr>\n",
       "      <th>1</th>\n",
       "      <td>6441</td>\n",
       "      <td>Qual é a diferença entre INNER JOIN e OUTER JOIN?</td>\n",
       "      <td>&lt;p&gt;Qual é a diferença entre &lt;code&gt;INNER JOIN&lt;/...</td>\n",
       "      <td>&lt;sql&gt;&lt;join&gt;</td>\n",
       "      <td>276</td>\n",
       "      <td>176953</td>\n",
       "    </tr>\n",
       "    <tr>\n",
       "      <th>2</th>\n",
       "      <td>579</td>\n",
       "      <td>Por que não devemos usar funções do tipo mysql_*?</td>\n",
       "      <td>&lt;p&gt;Uma dúvida muito comum é por que devemos pa...</td>\n",
       "      <td>&lt;php&gt;&lt;mysql&gt;</td>\n",
       "      <td>226</td>\n",
       "      <td>9761</td>\n",
       "    </tr>\n",
       "    <tr>\n",
       "      <th>3</th>\n",
       "      <td>2539</td>\n",
       "      <td>As mensagens de erro devem se desculpar?</td>\n",
       "      <td>&lt;p&gt;É comum encontrar uma mensagem de erro que ...</td>\n",
       "      <td>&lt;aplicação-web&gt;&lt;gui&gt;&lt;console&gt;&lt;ux&gt;</td>\n",
       "      <td>214</td>\n",
       "      <td>5075</td>\n",
       "    </tr>\n",
       "    <tr>\n",
       "      <th>4</th>\n",
       "      <td>17501</td>\n",
       "      <td>Qual é a diferença de API, biblioteca e Framew...</td>\n",
       "      <td>&lt;p&gt;Me parecem termos muito próximos e eventual...</td>\n",
       "      <td>&lt;api&gt;&lt;framework&gt;&lt;terminologia&gt;&lt;biblioteca&gt;</td>\n",
       "      <td>193</td>\n",
       "      <td>54191</td>\n",
       "    </tr>\n",
       "    <tr>\n",
       "      <th>...</th>\n",
       "      <td>...</td>\n",
       "      <td>...</td>\n",
       "      <td>...</td>\n",
       "      <td>...</td>\n",
       "      <td>...</td>\n",
       "      <td>...</td>\n",
       "    </tr>\n",
       "    <tr>\n",
       "      <th>495</th>\n",
       "      <td>194857</td>\n",
       "      <td>O que é Polyfill?</td>\n",
       "      <td>&lt;p&gt;Já vi esse termo &lt;em&gt;Polyfill&lt;/em&gt; sendo ut...</td>\n",
       "      <td>&lt;javascript&gt;&lt;terminologia&gt;&lt;polyfill&gt;</td>\n",
       "      <td>26</td>\n",
       "      <td>6860</td>\n",
       "    </tr>\n",
       "    <tr>\n",
       "      <th>496</th>\n",
       "      <td>323137</td>\n",
       "      <td>Pra que serve o comando LOCK TABLES?</td>\n",
       "      <td>&lt;p&gt;Esses dias me deparei com um trecho de um S...</td>\n",
       "      <td>&lt;mysql&gt;</td>\n",
       "      <td>26</td>\n",
       "      <td>657</td>\n",
       "    </tr>\n",
       "    <tr>\n",
       "      <th>497</th>\n",
       "      <td>232958</td>\n",
       "      <td>O que é um valor opaco?</td>\n",
       "      <td>&lt;p&gt;Por vezes vejo em documentações ou especifi...</td>\n",
       "      <td>&lt;nomenclatura&gt;</td>\n",
       "      <td>26</td>\n",
       "      <td>587</td>\n",
       "    </tr>\n",
       "    <tr>\n",
       "      <th>498</th>\n",
       "      <td>227907</td>\n",
       "      <td>O que são Proxy, Gateway e Tunnel no protocolo...</td>\n",
       "      <td>&lt;p&gt;Na especificação do protocolo HTTP, mais pr...</td>\n",
       "      <td>&lt;http&gt;</td>\n",
       "      <td>26</td>\n",
       "      <td>625</td>\n",
       "    </tr>\n",
       "    <tr>\n",
       "      <th>499</th>\n",
       "      <td>34042</td>\n",
       "      <td>Recortar imagem com javascript</td>\n",
       "      <td>&lt;p&gt;Eu preciso fazer o upload de uma foto e em ...</td>\n",
       "      <td>&lt;php&gt;&lt;javascript&gt;&lt;jquery&gt;</td>\n",
       "      <td>26</td>\n",
       "      <td>1537</td>\n",
       "    </tr>\n",
       "  </tbody>\n",
       "</table>\n",
       "<p>500 rows × 6 columns</p>\n",
       "</div>"
      ],
      "text/plain": [
       "         Id                                             Título  \\\n",
       "0      2402         Como fazer hash de senhas de forma segura?   \n",
       "1      6441  Qual é a diferença entre INNER JOIN e OUTER JOIN?   \n",
       "2       579  Por que não devemos usar funções do tipo mysql_*?   \n",
       "3      2539           As mensagens de erro devem se desculpar?   \n",
       "4     17501  Qual é a diferença de API, biblioteca e Framew...   \n",
       "..      ...                                                ...   \n",
       "495  194857                                  O que é Polyfill?   \n",
       "496  323137               Pra que serve o comando LOCK TABLES?   \n",
       "497  232958                            O que é um valor opaco?   \n",
       "498  227907  O que são Proxy, Gateway e Tunnel no protocolo...   \n",
       "499   34042                     Recortar imagem com javascript   \n",
       "\n",
       "                                               Questão  \\\n",
       "0    <p>Se eu fizer o <em><a href=\"http://pt.wikipe...   \n",
       "1    <p>Qual é a diferença entre <code>INNER JOIN</...   \n",
       "2    <p>Uma dúvida muito comum é por que devemos pa...   \n",
       "3    <p>É comum encontrar uma mensagem de erro que ...   \n",
       "4    <p>Me parecem termos muito próximos e eventual...   \n",
       "..                                                 ...   \n",
       "495  <p>Já vi esse termo <em>Polyfill</em> sendo ut...   \n",
       "496  <p>Esses dias me deparei com um trecho de um S...   \n",
       "497  <p>Por vezes vejo em documentações ou especifi...   \n",
       "498  <p>Na especificação do protocolo HTTP, mais pr...   \n",
       "499  <p>Eu preciso fazer o upload de uma foto e em ...   \n",
       "\n",
       "                                           Tags  Pontuação  Visualizações  \n",
       "0       <hash><segurança><senhas><criptografia>        350          22367  \n",
       "1                                   <sql><join>        276         176953  \n",
       "2                                  <php><mysql>        226           9761  \n",
       "3             <aplicação-web><gui><console><ux>        214           5075  \n",
       "4    <api><framework><terminologia><biblioteca>        193          54191  \n",
       "..                                          ...        ...            ...  \n",
       "495        <javascript><terminologia><polyfill>         26           6860  \n",
       "496                                     <mysql>         26            657  \n",
       "497                              <nomenclatura>         26            587  \n",
       "498                                      <http>         26            625  \n",
       "499                   <php><javascript><jquery>         26           1537  \n",
       "\n",
       "[500 rows x 6 columns]"
      ]
     },
     "execution_count": 3,
     "metadata": {},
     "output_type": "execute_result"
    }
   ],
   "source": [
    "dados_portugues"
   ]
  },
  {
   "cell_type": "code",
   "execution_count": 4,
   "metadata": {},
   "outputs": [],
   "source": [
    "dados_espanhol = pd.read_csv('https://raw.githubusercontent.com/alura-cursos/nlp-modelos-linguagem/master/dataset/stackoverflow_espanhol.csv', encoding='windows-1252', sep=';')"
   ]
  },
  {
   "cell_type": "code",
   "execution_count": 5,
   "metadata": {},
   "outputs": [],
   "source": [
    "questao_portugues = dados_portugues['Questão'][0]\n",
    "questao_ingles = dados_ingles['Questão'][0]\n",
    "questao_espanhol = dados_espanhol['Questão'][0]"
   ]
  },
  {
   "cell_type": "code",
   "execution_count": 6,
   "metadata": {},
   "outputs": [
    {
     "data": {
      "text/plain": [
       "['<p>',\n",
       " '<em>',\n",
       " '<a href=\"http://pt.wikipedia.org/wiki/Fun%C3%A7%C3%A3o_de_embaralhamento_criptogr%C3%A1fico\" rel=\"noreferrer\">',\n",
       " '</a>',\n",
       " '</em>',\n",
       " '</p>',\n",
       " '<p>',\n",
       " '<a href=\"http://pt.wikipedia.org/wiki/Ataque_de_for%C3%A7a_bruta\" rel=\"noreferrer\">',\n",
       " '</a>',\n",
       " '<em>',\n",
       " '<a href=\"http://pt.wikipedia.org/wiki/Keylogger\" rel=\"noreferrer\">',\n",
       " '</a>',\n",
       " '</em>',\n",
       " '<a href=\"http://pt.wikipedia.org/wiki/Criptoan%C3%A1lise_de_mangueira_de_borracha\" rel=\"noreferrer\">',\n",
       " '<em>',\n",
       " '</em>',\n",
       " '</a>',\n",
       " '<em>',\n",
       " '</em>',\n",
       " '</p>',\n",
       " '<p>',\n",
       " '</p>',\n",
       " '<p>',\n",
       " '<em>',\n",
       " '</em>',\n",
       " '</p>']"
      ]
     },
     "execution_count": 6,
     "metadata": {},
     "output_type": "execute_result"
    }
   ],
   "source": [
    "import re\n",
    "\n",
    "re.findall(r'<.*?>', questao_portugues)"
   ]
  },
  {
   "cell_type": "code",
   "execution_count": 7,
   "metadata": {},
   "outputs": [
    {
     "data": {
      "text/plain": [
       "'  T----E---S---T---E  Se eu fizer o   T----E---S---T---E    T----E---S---T---E  hash  T----E---S---T---E    T----E---S---T---E   de senhas antes de armazená-las em meu banco de dados é suficiente para evitar que elas sejam recuperadas por alguém?  T----E---S---T---E  \\n\\n  T----E---S---T---E  Estou falando apenas da recuperação diretamente do banco de dados e não qualquer outro tipo de ataque, como   T----E---S---T---E  força bruta  T----E---S---T---E   na página de login da aplicação,   T----E---S---T---E    T----E---S---T---E  keylogger  T----E---S---T---E    T----E---S---T---E   no cliente e   T----E---S---T---E  criptoanálise   T----E---S---T---E  rubberhose  T----E---S---T---E    T----E---S---T---E  . Qualquer forma de   T----E---S---T---E  hash  T----E---S---T---E   não vai impedir esses ataques.  T----E---S---T---E  \\n\\n  T----E---S---T---E  Tenho preocupação em dificultar ou até impossibilitar a obtenção das senhas originais caso o banco de dados seja comprometido. Como dar maior garantia de segurança neste aspecto?  T----E---S---T---E  \\n\\n  T----E---S---T---E  Quais preocupações adicionais evitariam o acesso às senhas? Existem formas melhores de fazer esse   T----E---S---T---E  hash  T----E---S---T---E  ?  T----E---S---T---E  \\n'"
      ]
     },
     "execution_count": 7,
     "metadata": {},
     "output_type": "execute_result"
    }
   ],
   "source": [
    "texto_teste = re.sub(r'<.*?>', '  T----E---S---T---E  ', questao_portugues)\n",
    "texto_teste"
   ]
  },
  {
   "cell_type": "code",
   "execution_count": 8,
   "metadata": {},
   "outputs": [
    {
     "data": {
      "text/plain": [
       "<re.Match object; span=(33, 35), match='70'>"
      ]
     },
     "execution_count": 8,
     "metadata": {},
     "output_type": "execute_result"
    }
   ],
   "source": [
    "re.search(r'70','57843165894365897342657849365238770')"
   ]
  },
  {
   "cell_type": "code",
   "execution_count": 9,
   "metadata": {},
   "outputs": [],
   "source": [
    "regex = re.compile(r'70')"
   ]
  },
  {
   "cell_type": "code",
   "execution_count": 10,
   "metadata": {},
   "outputs": [
    {
     "data": {
      "text/plain": [
       "<re.Match object; span=(33, 35), match='70'>"
      ]
     },
     "execution_count": 10,
     "metadata": {},
     "output_type": "execute_result"
    }
   ],
   "source": [
    "regex.search('57843165894365897342657849365238770')"
   ]
  },
  {
   "cell_type": "code",
   "execution_count": 11,
   "metadata": {},
   "outputs": [],
   "source": [
    "def remover(textos, regex):\n",
    "    if type(textos) == str:\n",
    "        return regex.sub('', textos)\n",
    "    else:\n",
    "        return [regex.sub('', texto) for texto in textos]"
   ]
  },
  {
   "cell_type": "code",
   "execution_count": 12,
   "metadata": {},
   "outputs": [
    {
     "data": {
      "text/plain": [
       "'Here is a piece of C++ code that seems very peculiar. For some strange reason, sorting the data miraculously makes the code almost six times faster.\\n\\n#include &lt;algorithm&gt;\\n#include &lt;ctime&gt;\\n#include &lt;iostream&gt;\\n\\nint main()\\n{\\n    // Generate data\\n    const unsigned arraySize = 32768;\\n    int data[arraySize];\\n\\n    for (unsigned c = 0; c &lt; arraySize; ++c)\\n        data[c] = std::rand() % 256;\\n\\n    // !!! With this, the next loop runs faster\\n    std::sort(data, data + arraySize);\\n\\n    // Test\\n    clock_t start = clock();\\n    long long sum = 0;\\n\\n    for (unsigned i = 0; i &lt; 100000; ++i)\\n    {\\n        // Primary loop\\n        for (unsigned c = 0; c &lt; arraySize; ++c)\\n        {\\n            if (data[c] &gt;= 128)\\n                sum += data[c];\\n        }\\n    }\\n\\n    double elapsedTime = static_cast&lt;double&gt;(clock() - start) / CLOCKS_PER_SEC;\\n\\n    std::cout &lt;&lt; elapsedTime &lt;&lt; std::endl;\\n    std::cout &lt;&lt; \"sum = \" &lt;&lt; sum &lt;&lt; std::endl;\\n}\\n\\n\\n\\nWithout std::sort(data, data + arraySize);, the code runs in 11.54 seconds.\\nWith the sorted data, the code runs in 1.93 seconds.\\n\\n\\nInitially, I thought this might be just a language or compiler anomaly. So I tried it in Java.\\n\\nimport java.util.Arrays;\\nimport java.util.Random;\\n\\npublic class Main\\n{\\n    public static void main(String[] args)\\n    {\\n        // Generate data\\n        int arraySize = 32768;\\n        int data[] = new int[arraySize];\\n\\n        Random rnd = new Random(0);\\n        for (int c = 0; c &lt; arraySize; ++c)\\n            data[c] = rnd.nextInt() % 256;\\n\\n        // !!! With this, the next loop runs faster\\n        Arrays.sort(data);\\n\\n        // Test\\n        long start = System.nanoTime();\\n        long sum = 0;\\n\\n        for (int i = 0; i &lt; 100000; ++i)\\n        {\\n            // Primary loop\\n            for (int c = 0; c &lt; arraySize; ++c)\\n            {\\n                if (data[c] &gt;= 128)\\n                    sum += data[c];\\n            }\\n        }\\n\\n        System.out.println((System.nanoTime() - start) / 1000000000.0);\\n        System.out.println(\"sum = \" + sum);\\n    }\\n}\\n\\n\\nWith a somewhat similar but less extreme result.\\n\\n\\n\\nMy first thought was that sorting brings the data into the cache, but then I thought how silly that is because the array was just generated.\\n\\n\\nWhat is going on?\\nWhy is it faster to process a sorted array than an unsorted array?\\nThe code is summing up some independent terms, and the order should not matter.\\n\\n'"
      ]
     },
     "execution_count": 12,
     "metadata": {},
     "output_type": "execute_result"
    }
   ],
   "source": [
    "regex_html = re.compile(r'<.*?>')\n",
    "questao_sem_tag = remover(questao_ingles, regex_html)\n",
    "questao_sem_tag"
   ]
  },
  {
   "cell_type": "code",
   "execution_count": 13,
   "metadata": {},
   "outputs": [],
   "source": [
    "def substituir_codigo(textos, regex):\n",
    "    if type(textos) == str:\n",
    "        return regex.sub('CODE', textos)\n",
    "    else:\n",
    "        return [regex.sub('CODE', texto) for texto in textos]"
   ]
  },
  {
   "cell_type": "code",
   "execution_count": 14,
   "metadata": {},
   "outputs": [
    {
     "name": "stdout",
     "output_type": "stream",
     "text": [
      "<p>Here is a piece of C++ code that seems very peculiar. For some strange reason, sorting the data miraculously makes the code almost six times faster.</p>\n",
      "\n",
      "<pre class=\"lang-cpp prettyprint-override\">CODE</pre>\n",
      "\n",
      "<ul>\n",
      "<li>Without CODE, the code runs in 11.54 seconds.</li>\n",
      "<li>With the sorted data, the code runs in 1.93 seconds.</li>\n",
      "</ul>\n",
      "\n",
      "<p>Initially, I thought this might be just a language or compiler anomaly. So I tried it in Java.</p>\n",
      "\n",
      "<pre class=\"lang-java prettyprint-override\">CODE</pre>\n",
      "\n",
      "<p>With a somewhat similar but less extreme result.</p>\n",
      "\n",
      "<hr>\n",
      "\n",
      "<p>My first thought was that sorting brings the data into the cache, but then I thought how silly that is because the array was just generated.</p>\n",
      "\n",
      "<ul>\n",
      "<li>What is going on?</li>\n",
      "<li>Why is it faster to process a sorted array than an unsorted array?</li>\n",
      "<li>The code is summing up some independent terms, and the order should not matter.</li>\n",
      "</ul>\n",
      "\n"
     ]
    }
   ],
   "source": [
    "regex_codigo = re.compile(r'<code>(.|(\\n))*?</code>')\n",
    "questao_sem_code = substituir_codigo(questao_ingles, regex_codigo)\n",
    "print(questao_sem_code)"
   ]
  },
  {
   "cell_type": "code",
   "execution_count": 15,
   "metadata": {},
   "outputs": [
    {
     "data": {
      "text/html": [
       "<div>\n",
       "<style scoped>\n",
       "    .dataframe tbody tr th:only-of-type {\n",
       "        vertical-align: middle;\n",
       "    }\n",
       "\n",
       "    .dataframe tbody tr th {\n",
       "        vertical-align: top;\n",
       "    }\n",
       "\n",
       "    .dataframe thead th {\n",
       "        text-align: right;\n",
       "    }\n",
       "</style>\n",
       "<table border=\"1\" class=\"dataframe\">\n",
       "  <thead>\n",
       "    <tr style=\"text-align: right;\">\n",
       "      <th></th>\n",
       "      <th>Id</th>\n",
       "      <th>Título</th>\n",
       "      <th>Questão</th>\n",
       "      <th>Tags</th>\n",
       "      <th>Pontuação</th>\n",
       "      <th>Visualizações</th>\n",
       "      <th>sem_code_tag</th>\n",
       "    </tr>\n",
       "  </thead>\n",
       "  <tbody>\n",
       "    <tr>\n",
       "      <th>0</th>\n",
       "      <td>2402</td>\n",
       "      <td>Como fazer hash de senhas de forma segura?</td>\n",
       "      <td>&lt;p&gt;Se eu fizer o &lt;em&gt;&lt;a href=\"http://pt.wikipe...</td>\n",
       "      <td>&lt;hash&gt;&lt;segurança&gt;&lt;senhas&gt;&lt;criptografia&gt;</td>\n",
       "      <td>350</td>\n",
       "      <td>22367</td>\n",
       "      <td>Se eu fizer o hash de senhas antes de armazená...</td>\n",
       "    </tr>\n",
       "    <tr>\n",
       "      <th>1</th>\n",
       "      <td>6441</td>\n",
       "      <td>Qual é a diferença entre INNER JOIN e OUTER JOIN?</td>\n",
       "      <td>&lt;p&gt;Qual é a diferença entre &lt;code&gt;INNER JOIN&lt;/...</td>\n",
       "      <td>&lt;sql&gt;&lt;join&gt;</td>\n",
       "      <td>276</td>\n",
       "      <td>176953</td>\n",
       "      <td>Qual é a diferença entre CODE e CODE? Podem me...</td>\n",
       "    </tr>\n",
       "    <tr>\n",
       "      <th>2</th>\n",
       "      <td>579</td>\n",
       "      <td>Por que não devemos usar funções do tipo mysql_*?</td>\n",
       "      <td>&lt;p&gt;Uma dúvida muito comum é por que devemos pa...</td>\n",
       "      <td>&lt;php&gt;&lt;mysql&gt;</td>\n",
       "      <td>226</td>\n",
       "      <td>9761</td>\n",
       "      <td>Uma dúvida muito comum é por que devemos parar...</td>\n",
       "    </tr>\n",
       "    <tr>\n",
       "      <th>3</th>\n",
       "      <td>2539</td>\n",
       "      <td>As mensagens de erro devem se desculpar?</td>\n",
       "      <td>&lt;p&gt;É comum encontrar uma mensagem de erro que ...</td>\n",
       "      <td>&lt;aplicação-web&gt;&lt;gui&gt;&lt;console&gt;&lt;ux&gt;</td>\n",
       "      <td>214</td>\n",
       "      <td>5075</td>\n",
       "      <td>É comum encontrar uma mensagem de erro que diz...</td>\n",
       "    </tr>\n",
       "    <tr>\n",
       "      <th>4</th>\n",
       "      <td>17501</td>\n",
       "      <td>Qual é a diferença de API, biblioteca e Framew...</td>\n",
       "      <td>&lt;p&gt;Me parecem termos muito próximos e eventual...</td>\n",
       "      <td>&lt;api&gt;&lt;framework&gt;&lt;terminologia&gt;&lt;biblioteca&gt;</td>\n",
       "      <td>193</td>\n",
       "      <td>54191</td>\n",
       "      <td>Me parecem termos muito próximos e eventualmen...</td>\n",
       "    </tr>\n",
       "    <tr>\n",
       "      <th>...</th>\n",
       "      <td>...</td>\n",
       "      <td>...</td>\n",
       "      <td>...</td>\n",
       "      <td>...</td>\n",
       "      <td>...</td>\n",
       "      <td>...</td>\n",
       "      <td>...</td>\n",
       "    </tr>\n",
       "    <tr>\n",
       "      <th>495</th>\n",
       "      <td>194857</td>\n",
       "      <td>O que é Polyfill?</td>\n",
       "      <td>&lt;p&gt;Já vi esse termo &lt;em&gt;Polyfill&lt;/em&gt; sendo ut...</td>\n",
       "      <td>&lt;javascript&gt;&lt;terminologia&gt;&lt;polyfill&gt;</td>\n",
       "      <td>26</td>\n",
       "      <td>6860</td>\n",
       "      <td>Já vi esse termo Polyfill sendo utilizado vári...</td>\n",
       "    </tr>\n",
       "    <tr>\n",
       "      <th>496</th>\n",
       "      <td>323137</td>\n",
       "      <td>Pra que serve o comando LOCK TABLES?</td>\n",
       "      <td>&lt;p&gt;Esses dias me deparei com um trecho de um S...</td>\n",
       "      <td>&lt;mysql&gt;</td>\n",
       "      <td>26</td>\n",
       "      <td>657</td>\n",
       "      <td>Esses dias me deparei com um trecho de um SQL ...</td>\n",
       "    </tr>\n",
       "    <tr>\n",
       "      <th>497</th>\n",
       "      <td>232958</td>\n",
       "      <td>O que é um valor opaco?</td>\n",
       "      <td>&lt;p&gt;Por vezes vejo em documentações ou especifi...</td>\n",
       "      <td>&lt;nomenclatura&gt;</td>\n",
       "      <td>26</td>\n",
       "      <td>587</td>\n",
       "      <td>Por vezes vejo em documentações ou especificaç...</td>\n",
       "    </tr>\n",
       "    <tr>\n",
       "      <th>498</th>\n",
       "      <td>227907</td>\n",
       "      <td>O que são Proxy, Gateway e Tunnel no protocolo...</td>\n",
       "      <td>&lt;p&gt;Na especificação do protocolo HTTP, mais pr...</td>\n",
       "      <td>&lt;http&gt;</td>\n",
       "      <td>26</td>\n",
       "      <td>625</td>\n",
       "      <td>Na especificação do protocolo HTTP, mais preci...</td>\n",
       "    </tr>\n",
       "    <tr>\n",
       "      <th>499</th>\n",
       "      <td>34042</td>\n",
       "      <td>Recortar imagem com javascript</td>\n",
       "      <td>&lt;p&gt;Eu preciso fazer o upload de uma foto e em ...</td>\n",
       "      <td>&lt;php&gt;&lt;javascript&gt;&lt;jquery&gt;</td>\n",
       "      <td>26</td>\n",
       "      <td>1537</td>\n",
       "      <td>Eu preciso fazer o upload de uma foto e em seg...</td>\n",
       "    </tr>\n",
       "  </tbody>\n",
       "</table>\n",
       "<p>500 rows × 7 columns</p>\n",
       "</div>"
      ],
      "text/plain": [
       "         Id                                             Título  \\\n",
       "0      2402         Como fazer hash de senhas de forma segura?   \n",
       "1      6441  Qual é a diferença entre INNER JOIN e OUTER JOIN?   \n",
       "2       579  Por que não devemos usar funções do tipo mysql_*?   \n",
       "3      2539           As mensagens de erro devem se desculpar?   \n",
       "4     17501  Qual é a diferença de API, biblioteca e Framew...   \n",
       "..      ...                                                ...   \n",
       "495  194857                                  O que é Polyfill?   \n",
       "496  323137               Pra que serve o comando LOCK TABLES?   \n",
       "497  232958                            O que é um valor opaco?   \n",
       "498  227907  O que são Proxy, Gateway e Tunnel no protocolo...   \n",
       "499   34042                     Recortar imagem com javascript   \n",
       "\n",
       "                                               Questão  \\\n",
       "0    <p>Se eu fizer o <em><a href=\"http://pt.wikipe...   \n",
       "1    <p>Qual é a diferença entre <code>INNER JOIN</...   \n",
       "2    <p>Uma dúvida muito comum é por que devemos pa...   \n",
       "3    <p>É comum encontrar uma mensagem de erro que ...   \n",
       "4    <p>Me parecem termos muito próximos e eventual...   \n",
       "..                                                 ...   \n",
       "495  <p>Já vi esse termo <em>Polyfill</em> sendo ut...   \n",
       "496  <p>Esses dias me deparei com um trecho de um S...   \n",
       "497  <p>Por vezes vejo em documentações ou especifi...   \n",
       "498  <p>Na especificação do protocolo HTTP, mais pr...   \n",
       "499  <p>Eu preciso fazer o upload de uma foto e em ...   \n",
       "\n",
       "                                           Tags  Pontuação  Visualizações  \\\n",
       "0       <hash><segurança><senhas><criptografia>        350          22367   \n",
       "1                                   <sql><join>        276         176953   \n",
       "2                                  <php><mysql>        226           9761   \n",
       "3             <aplicação-web><gui><console><ux>        214           5075   \n",
       "4    <api><framework><terminologia><biblioteca>        193          54191   \n",
       "..                                          ...        ...            ...   \n",
       "495        <javascript><terminologia><polyfill>         26           6860   \n",
       "496                                     <mysql>         26            657   \n",
       "497                              <nomenclatura>         26            587   \n",
       "498                                      <http>         26            625   \n",
       "499                   <php><javascript><jquery>         26           1537   \n",
       "\n",
       "                                          sem_code_tag  \n",
       "0    Se eu fizer o hash de senhas antes de armazená...  \n",
       "1    Qual é a diferença entre CODE e CODE? Podem me...  \n",
       "2    Uma dúvida muito comum é por que devemos parar...  \n",
       "3    É comum encontrar uma mensagem de erro que diz...  \n",
       "4    Me parecem termos muito próximos e eventualmen...  \n",
       "..                                                 ...  \n",
       "495  Já vi esse termo Polyfill sendo utilizado vári...  \n",
       "496  Esses dias me deparei com um trecho de um SQL ...  \n",
       "497  Por vezes vejo em documentações ou especificaç...  \n",
       "498  Na especificação do protocolo HTTP, mais preci...  \n",
       "499  Eu preciso fazer o upload de uma foto e em seg...  \n",
       "\n",
       "[500 rows x 7 columns]"
      ]
     },
     "execution_count": 15,
     "metadata": {},
     "output_type": "execute_result"
    }
   ],
   "source": [
    "questoes_portugues_sem_code = substituir_codigo(dados_portugues['Questão'], regex_codigo)\n",
    "questoes_portugues_sem_code_tag = remover(questoes_portugues_sem_code, regex_html)\n",
    "\n",
    "dados_portugues['sem_code_tag'] = questoes_portugues_sem_code_tag\n",
    "dados_portugues"
   ]
  },
  {
   "cell_type": "code",
   "execution_count": 16,
   "metadata": {},
   "outputs": [
    {
     "data": {
      "text/html": [
       "<div>\n",
       "<style scoped>\n",
       "    .dataframe tbody tr th:only-of-type {\n",
       "        vertical-align: middle;\n",
       "    }\n",
       "\n",
       "    .dataframe tbody tr th {\n",
       "        vertical-align: top;\n",
       "    }\n",
       "\n",
       "    .dataframe thead th {\n",
       "        text-align: right;\n",
       "    }\n",
       "</style>\n",
       "<table border=\"1\" class=\"dataframe\">\n",
       "  <thead>\n",
       "    <tr style=\"text-align: right;\">\n",
       "      <th></th>\n",
       "      <th>Id</th>\n",
       "      <th>Título</th>\n",
       "      <th>Questão</th>\n",
       "      <th>Tags</th>\n",
       "      <th>Pontuação</th>\n",
       "      <th>Visualizações</th>\n",
       "      <th>sem_code_tag</th>\n",
       "    </tr>\n",
       "  </thead>\n",
       "  <tbody>\n",
       "    <tr>\n",
       "      <th>0</th>\n",
       "      <td>11227809</td>\n",
       "      <td>Why is it faster to process a sorted array tha...</td>\n",
       "      <td>&lt;p&gt;Here is a piece of C++ code that seems very...</td>\n",
       "      <td>&lt;java&gt;&lt;c++&gt;&lt;performance&gt;&lt;optimization&gt;&lt;branch-...</td>\n",
       "      <td>23057</td>\n",
       "      <td>1358574</td>\n",
       "      <td>Here is a piece of C++ code that seems very pe...</td>\n",
       "    </tr>\n",
       "    <tr>\n",
       "      <th>1</th>\n",
       "      <td>927358</td>\n",
       "      <td>How do I undo the most recent local commits in...</td>\n",
       "      <td>&lt;p&gt;I accidentally committed the wrong files to...</td>\n",
       "      <td>&lt;git&gt;&lt;version-control&gt;&lt;git-commit&gt;&lt;undo&gt;</td>\n",
       "      <td>19640</td>\n",
       "      <td>7906137</td>\n",
       "      <td>I accidentally committed the wrong files to Gi...</td>\n",
       "    </tr>\n",
       "    <tr>\n",
       "      <th>2</th>\n",
       "      <td>2003505</td>\n",
       "      <td>How do I delete a Git branch locally and remot...</td>\n",
       "      <td>&lt;p&gt;I want to delete a branch both locally and ...</td>\n",
       "      <td>&lt;git&gt;&lt;git-branch&gt;&lt;git-remote&gt;</td>\n",
       "      <td>15249</td>\n",
       "      <td>6940906</td>\n",
       "      <td>I want to delete a branch both locally and rem...</td>\n",
       "    </tr>\n",
       "    <tr>\n",
       "      <th>3</th>\n",
       "      <td>292357</td>\n",
       "      <td>What is the difference between 'git pull' and ...</td>\n",
       "      <td>&lt;blockquote&gt;\\n  &lt;p&gt;&lt;strong&gt;Moderator Note:&lt;/st...</td>\n",
       "      <td>&lt;git&gt;&lt;git-pull&gt;&lt;git-fetch&gt;</td>\n",
       "      <td>11008</td>\n",
       "      <td>2543052</td>\n",
       "      <td>\\n  Moderator Note: Given that this question h...</td>\n",
       "    </tr>\n",
       "    <tr>\n",
       "      <th>4</th>\n",
       "      <td>477816</td>\n",
       "      <td>What is the correct JSON content type?</td>\n",
       "      <td>&lt;p&gt;I've been messing around with &lt;a href=\"http...</td>\n",
       "      <td>&lt;json&gt;&lt;http-headers&gt;&lt;content-type&gt;</td>\n",
       "      <td>9701</td>\n",
       "      <td>2478940</td>\n",
       "      <td>I've been messing around with JSON for some ti...</td>\n",
       "    </tr>\n",
       "    <tr>\n",
       "      <th>...</th>\n",
       "      <td>...</td>\n",
       "      <td>...</td>\n",
       "      <td>...</td>\n",
       "      <td>...</td>\n",
       "      <td>...</td>\n",
       "      <td>...</td>\n",
       "      <td>...</td>\n",
       "    </tr>\n",
       "    <tr>\n",
       "      <th>495</th>\n",
       "      <td>6237295</td>\n",
       "      <td>How can I update NodeJS and NPM to the next ve...</td>\n",
       "      <td>&lt;p&gt;I just installed &lt;code&gt;Node.js&lt;/code&gt; and &lt;...</td>\n",
       "      <td>&lt;node.js&gt;&lt;npm&gt;&lt;node-modules&gt;&lt;npm-update&gt;</td>\n",
       "      <td>1477</td>\n",
       "      <td>1279392</td>\n",
       "      <td>I just installed CODE and CODE (for additional...</td>\n",
       "    </tr>\n",
       "    <tr>\n",
       "      <th>496</th>\n",
       "      <td>9033</td>\n",
       "      <td>Hidden Features of C#?</td>\n",
       "      <td>&lt;p&gt;This came to my mind after I learned the fo...</td>\n",
       "      <td>&lt;c#&gt;&lt;hidden-features&gt;</td>\n",
       "      <td>1476</td>\n",
       "      <td>659870</td>\n",
       "      <td>This came to my mind after I learned the follo...</td>\n",
       "    </tr>\n",
       "    <tr>\n",
       "      <th>497</th>\n",
       "      <td>5411538</td>\n",
       "      <td>Redirect from an HTML page</td>\n",
       "      <td>&lt;p&gt;Is it possible to set up a basic HTML page ...</td>\n",
       "      <td>&lt;html&gt;&lt;xhtml&gt;&lt;meta&gt;&lt;html-head&gt;</td>\n",
       "      <td>1476</td>\n",
       "      <td>3091553</td>\n",
       "      <td>Is it possible to set up a basic HTML page to ...</td>\n",
       "    </tr>\n",
       "    <tr>\n",
       "      <th>498</th>\n",
       "      <td>2763006</td>\n",
       "      <td>Make the current Git branch a master branch</td>\n",
       "      <td>&lt;p&gt;I have a repository in Git. I made a branch...</td>\n",
       "      <td>&lt;git&gt;</td>\n",
       "      <td>1474</td>\n",
       "      <td>653714</td>\n",
       "      <td>I have a repository in Git. I made a branch, t...</td>\n",
       "    </tr>\n",
       "    <tr>\n",
       "      <th>499</th>\n",
       "      <td>997482</td>\n",
       "      <td>Does Java support default parameter values?</td>\n",
       "      <td>&lt;p&gt;I came across some Java code that had the f...</td>\n",
       "      <td>&lt;java&gt;&lt;methods&gt;&lt;parameters&gt;&lt;overloading&gt;&lt;defau...</td>\n",
       "      <td>1472</td>\n",
       "      <td>1033672</td>\n",
       "      <td>I came across some Java code that had the foll...</td>\n",
       "    </tr>\n",
       "  </tbody>\n",
       "</table>\n",
       "<p>500 rows × 7 columns</p>\n",
       "</div>"
      ],
      "text/plain": [
       "           Id                                             Título  \\\n",
       "0    11227809  Why is it faster to process a sorted array tha...   \n",
       "1      927358  How do I undo the most recent local commits in...   \n",
       "2     2003505  How do I delete a Git branch locally and remot...   \n",
       "3      292357  What is the difference between 'git pull' and ...   \n",
       "4      477816             What is the correct JSON content type?   \n",
       "..        ...                                                ...   \n",
       "495   6237295  How can I update NodeJS and NPM to the next ve...   \n",
       "496      9033                             Hidden Features of C#?   \n",
       "497   5411538                         Redirect from an HTML page   \n",
       "498   2763006        Make the current Git branch a master branch   \n",
       "499    997482        Does Java support default parameter values?   \n",
       "\n",
       "                                               Questão  \\\n",
       "0    <p>Here is a piece of C++ code that seems very...   \n",
       "1    <p>I accidentally committed the wrong files to...   \n",
       "2    <p>I want to delete a branch both locally and ...   \n",
       "3    <blockquote>\\n  <p><strong>Moderator Note:</st...   \n",
       "4    <p>I've been messing around with <a href=\"http...   \n",
       "..                                                 ...   \n",
       "495  <p>I just installed <code>Node.js</code> and <...   \n",
       "496  <p>This came to my mind after I learned the fo...   \n",
       "497  <p>Is it possible to set up a basic HTML page ...   \n",
       "498  <p>I have a repository in Git. I made a branch...   \n",
       "499  <p>I came across some Java code that had the f...   \n",
       "\n",
       "                                                  Tags  Pontuação  \\\n",
       "0    <java><c++><performance><optimization><branch-...      23057   \n",
       "1             <git><version-control><git-commit><undo>      19640   \n",
       "2                        <git><git-branch><git-remote>      15249   \n",
       "3                           <git><git-pull><git-fetch>      11008   \n",
       "4                   <json><http-headers><content-type>       9701   \n",
       "..                                                 ...        ...   \n",
       "495           <node.js><npm><node-modules><npm-update>       1477   \n",
       "496                              <c#><hidden-features>       1476   \n",
       "497                     <html><xhtml><meta><html-head>       1476   \n",
       "498                                              <git>       1474   \n",
       "499  <java><methods><parameters><overloading><defau...       1472   \n",
       "\n",
       "     Visualizações                                       sem_code_tag  \n",
       "0          1358574  Here is a piece of C++ code that seems very pe...  \n",
       "1          7906137  I accidentally committed the wrong files to Gi...  \n",
       "2          6940906  I want to delete a branch both locally and rem...  \n",
       "3          2543052  \\n  Moderator Note: Given that this question h...  \n",
       "4          2478940  I've been messing around with JSON for some ti...  \n",
       "..             ...                                                ...  \n",
       "495        1279392  I just installed CODE and CODE (for additional...  \n",
       "496         659870  This came to my mind after I learned the follo...  \n",
       "497        3091553  Is it possible to set up a basic HTML page to ...  \n",
       "498         653714  I have a repository in Git. I made a branch, t...  \n",
       "499        1033672  I came across some Java code that had the foll...  \n",
       "\n",
       "[500 rows x 7 columns]"
      ]
     },
     "execution_count": 16,
     "metadata": {},
     "output_type": "execute_result"
    }
   ],
   "source": [
    "questoes_ingles_sem_code = substituir_codigo(dados_ingles['Questão'], regex_codigo)\n",
    "questoes_ingles_sem_code_tag = remover(questoes_ingles_sem_code, regex_html)\n",
    "\n",
    "dados_ingles['sem_code_tag'] = questoes_ingles_sem_code_tag\n",
    "dados_ingles"
   ]
  },
  {
   "cell_type": "code",
   "execution_count": 17,
   "metadata": {},
   "outputs": [
    {
     "data": {
      "text/html": [
       "<div>\n",
       "<style scoped>\n",
       "    .dataframe tbody tr th:only-of-type {\n",
       "        vertical-align: middle;\n",
       "    }\n",
       "\n",
       "    .dataframe tbody tr th {\n",
       "        vertical-align: top;\n",
       "    }\n",
       "\n",
       "    .dataframe thead th {\n",
       "        text-align: right;\n",
       "    }\n",
       "</style>\n",
       "<table border=\"1\" class=\"dataframe\">\n",
       "  <thead>\n",
       "    <tr style=\"text-align: right;\">\n",
       "      <th></th>\n",
       "      <th>Id</th>\n",
       "      <th>Título</th>\n",
       "      <th>Questão</th>\n",
       "      <th>Tags</th>\n",
       "      <th>Pontuação</th>\n",
       "      <th>Visualizações</th>\n",
       "      <th>sem_code_tag</th>\n",
       "    </tr>\n",
       "  </thead>\n",
       "  <tbody>\n",
       "    <tr>\n",
       "      <th>0</th>\n",
       "      <td>18232</td>\n",
       "      <td>¿Cómo evitar la inyección SQL en PHP?</td>\n",
       "      <td>&lt;p&gt;Las sentencias dinámicas son sentencias SQL...</td>\n",
       "      <td>&lt;php&gt;&lt;mysql&gt;&lt;sql&gt;&lt;seguridad&gt;&lt;inyección-sql&gt;</td>\n",
       "      <td>169</td>\n",
       "      <td>38614</td>\n",
       "      <td>Las sentencias dinámicas son sentencias SQL qu...</td>\n",
       "    </tr>\n",
       "    <tr>\n",
       "      <th>1</th>\n",
       "      <td>197</td>\n",
       "      <td>¿Por qué mis programas no pueden hacer cálculo...</td>\n",
       "      <td>&lt;p&gt;Unas veces los cálculos funcionan correctam...</td>\n",
       "      <td>&lt;matemáticas&gt;&lt;coma-flotante&gt;&lt;lenguaje-agnóstico&gt;</td>\n",
       "      <td>141</td>\n",
       "      <td>3860</td>\n",
       "      <td>Unas veces los cálculos funcionan correctament...</td>\n",
       "    </tr>\n",
       "    <tr>\n",
       "      <th>2</th>\n",
       "      <td>36</td>\n",
       "      <td>¿Cuál es la diferencia entre un inner y un out...</td>\n",
       "      <td>&lt;p&gt;¿Cuál es la diferencia entre un &lt;code&gt;inner...</td>\n",
       "      <td>&lt;mysql&gt;&lt;sql&gt;&lt;join&gt;</td>\n",
       "      <td>97</td>\n",
       "      <td>53627</td>\n",
       "      <td>¿Cuál es la diferencia entre un CODE y un CODE...</td>\n",
       "    </tr>\n",
       "    <tr>\n",
       "      <th>3</th>\n",
       "      <td>29177</td>\n",
       "      <td>¿Por qué es considerado una mala práctica util...</td>\n",
       "      <td>&lt;p&gt;La mayoría de nosotros decimos, (muchas vec...</td>\n",
       "      <td>&lt;variables&gt;&lt;variables-globales&gt;&lt;patrones-de-di...</td>\n",
       "      <td>89</td>\n",
       "      <td>9987</td>\n",
       "      <td>La mayoría de nosotros decimos, (muchas veces ...</td>\n",
       "    </tr>\n",
       "    <tr>\n",
       "      <th>4</th>\n",
       "      <td>142</td>\n",
       "      <td>Validar un email en JavaScript que acepte todo...</td>\n",
       "      <td>&lt;h3&gt;Pregunta&lt;/h3&gt;\\n\\n&lt;p&gt;¿Cómo validar un e-mai...</td>\n",
       "      <td>&lt;javascript&gt;&lt;validación&gt;&lt;email&gt;&lt;regex&gt;</td>\n",
       "      <td>87</td>\n",
       "      <td>73129</td>\n",
       "      <td>Pregunta\\n\\n¿Cómo validar un e-mail que acepte...</td>\n",
       "    </tr>\n",
       "    <tr>\n",
       "      <th>...</th>\n",
       "      <td>...</td>\n",
       "      <td>...</td>\n",
       "      <td>...</td>\n",
       "      <td>...</td>\n",
       "      <td>...</td>\n",
       "      <td>...</td>\n",
       "      <td>...</td>\n",
       "    </tr>\n",
       "    <tr>\n",
       "      <th>495</th>\n",
       "      <td>67171</td>\n",
       "      <td>¿Cuál es el valor primitivo de [] con base en ...</td>\n",
       "      <td>&lt;p&gt;Para escribir una &lt;a href=\"https://es.stack...</td>\n",
       "      <td>&lt;javascript&gt;&lt;es2016&gt;&lt;ecmascript-7&gt;</td>\n",
       "      <td>9</td>\n",
       "      <td>118</td>\n",
       "      <td>Para escribir una respuesta a &amp;#191;C&amp;#243;mo ...</td>\n",
       "    </tr>\n",
       "    <tr>\n",
       "      <th>496</th>\n",
       "      <td>66024</td>\n",
       "      <td>¿Por qué el resultado esperado no es exacto en...</td>\n",
       "      <td>&lt;p&gt;Estoy empezando a estudiar e investigar un ...</td>\n",
       "      <td>&lt;javascript&gt;&lt;inteligencia-artificial&gt;</td>\n",
       "      <td>9</td>\n",
       "      <td>230</td>\n",
       "      <td>Estoy empezando a estudiar e investigar un poc...</td>\n",
       "    </tr>\n",
       "    <tr>\n",
       "      <th>497</th>\n",
       "      <td>151676</td>\n",
       "      <td>¿Por qué puedo ignorar valor de retorno de cie...</td>\n",
       "      <td>&lt;p&gt;Estoy empezando con C y tengo la siguiente ...</td>\n",
       "      <td>&lt;c++&gt;&lt;c&gt;</td>\n",
       "      <td>9</td>\n",
       "      <td>104</td>\n",
       "      <td>Estoy empezando con C y tengo la siguiente dud...</td>\n",
       "    </tr>\n",
       "    <tr>\n",
       "      <th>498</th>\n",
       "      <td>107742</td>\n",
       "      <td>¿Cuál es la diferencia entre Interfaz y Clase ...</td>\n",
       "      <td>&lt;p&gt;¿Cuál es la diferencia entre Interfaz y Cla...</td>\n",
       "      <td>&lt;java&gt;&lt;clase-abstracta&gt;</td>\n",
       "      <td>9</td>\n",
       "      <td>37657</td>\n",
       "      <td>¿Cuál es la diferencia entre Interfaz y Clase ...</td>\n",
       "    </tr>\n",
       "    <tr>\n",
       "      <th>499</th>\n",
       "      <td>74386</td>\n",
       "      <td>¿Comó agregar estilo a un checkbox?</td>\n",
       "      <td>&lt;p&gt;Necesito agregarle un estilo a mi checkbox ...</td>\n",
       "      <td>&lt;html&gt;&lt;css&gt;&lt;checkbox&gt;</td>\n",
       "      <td>9</td>\n",
       "      <td>424</td>\n",
       "      <td>Necesito agregarle un estilo a mi checkbox par...</td>\n",
       "    </tr>\n",
       "  </tbody>\n",
       "</table>\n",
       "<p>500 rows × 7 columns</p>\n",
       "</div>"
      ],
      "text/plain": [
       "         Id                                             Título  \\\n",
       "0     18232              ¿Cómo evitar la inyección SQL en PHP?   \n",
       "1       197  ¿Por qué mis programas no pueden hacer cálculo...   \n",
       "2        36  ¿Cuál es la diferencia entre un inner y un out...   \n",
       "3     29177  ¿Por qué es considerado una mala práctica util...   \n",
       "4       142  Validar un email en JavaScript que acepte todo...   \n",
       "..      ...                                                ...   \n",
       "495   67171  ¿Cuál es el valor primitivo de [] con base en ...   \n",
       "496   66024  ¿Por qué el resultado esperado no es exacto en...   \n",
       "497  151676  ¿Por qué puedo ignorar valor de retorno de cie...   \n",
       "498  107742  ¿Cuál es la diferencia entre Interfaz y Clase ...   \n",
       "499   74386                ¿Comó agregar estilo a un checkbox?   \n",
       "\n",
       "                                               Questão  \\\n",
       "0    <p>Las sentencias dinámicas son sentencias SQL...   \n",
       "1    <p>Unas veces los cálculos funcionan correctam...   \n",
       "2    <p>¿Cuál es la diferencia entre un <code>inner...   \n",
       "3    <p>La mayoría de nosotros decimos, (muchas vec...   \n",
       "4    <h3>Pregunta</h3>\\n\\n<p>¿Cómo validar un e-mai...   \n",
       "..                                                 ...   \n",
       "495  <p>Para escribir una <a href=\"https://es.stack...   \n",
       "496  <p>Estoy empezando a estudiar e investigar un ...   \n",
       "497  <p>Estoy empezando con C y tengo la siguiente ...   \n",
       "498  <p>¿Cuál es la diferencia entre Interfaz y Cla...   \n",
       "499  <p>Necesito agregarle un estilo a mi checkbox ...   \n",
       "\n",
       "                                                  Tags  Pontuação  \\\n",
       "0          <php><mysql><sql><seguridad><inyección-sql>        169   \n",
       "1     <matemáticas><coma-flotante><lenguaje-agnóstico>        141   \n",
       "2                                   <mysql><sql><join>         97   \n",
       "3    <variables><variables-globales><patrones-de-di...         89   \n",
       "4               <javascript><validación><email><regex>         87   \n",
       "..                                                 ...        ...   \n",
       "495                 <javascript><es2016><ecmascript-7>          9   \n",
       "496              <javascript><inteligencia-artificial>          9   \n",
       "497                                           <c++><c>          9   \n",
       "498                            <java><clase-abstracta>          9   \n",
       "499                              <html><css><checkbox>          9   \n",
       "\n",
       "     Visualizações                                       sem_code_tag  \n",
       "0            38614  Las sentencias dinámicas son sentencias SQL qu...  \n",
       "1             3860  Unas veces los cálculos funcionan correctament...  \n",
       "2            53627  ¿Cuál es la diferencia entre un CODE y un CODE...  \n",
       "3             9987  La mayoría de nosotros decimos, (muchas veces ...  \n",
       "4            73129  Pregunta\\n\\n¿Cómo validar un e-mail que acepte...  \n",
       "..             ...                                                ...  \n",
       "495            118  Para escribir una respuesta a &#191;C&#243;mo ...  \n",
       "496            230  Estoy empezando a estudiar e investigar un poc...  \n",
       "497            104  Estoy empezando con C y tengo la siguiente dud...  \n",
       "498          37657  ¿Cuál es la diferencia entre Interfaz y Clase ...  \n",
       "499            424  Necesito agregarle un estilo a mi checkbox par...  \n",
       "\n",
       "[500 rows x 7 columns]"
      ]
     },
     "execution_count": 17,
     "metadata": {},
     "output_type": "execute_result"
    }
   ],
   "source": [
    "questoes_espanhol_sem_code = substituir_codigo(dados_espanhol['Questão'], regex_codigo)\n",
    "questoes_espanhol_sem_code_tag = remover(questoes_espanhol_sem_code, regex_html)\n",
    "\n",
    "dados_espanhol['sem_code_tag'] = questoes_espanhol_sem_code_tag\n",
    "dados_espanhol"
   ]
  },
  {
   "cell_type": "code",
   "execution_count": 18,
   "metadata": {},
   "outputs": [
    {
     "name": "stdout",
     "output_type": "stream",
     "text": [
      "Las sentencias dinámicas son sentencias SQL que se crean como cadenas de texto strings y en las que se insertanconcatenan valores obtenidos de alguna fuente normalmente proveniente del usuario lo que puede hacer que sean vulnerables a inyección SQL si no se sanean las entradas como por ejemplo\n",
      "\n",
      "CODE\n",
      "\n",
      "Eso es un ejemplo de una vulnerabilidad grave en la seguridad de una aplicación web o no porque si el usuario introdujese un valor como CODE nos encontraríamos con que la sentencia ejecutada sería\n",
      "\n",
      "CODE\n",
      "\n",
      "Y se eliminaría la tabla Usuarios con todos los datos contenidos en ella \n",
      "\n",
      "Cómo puedo evitar que la inyección SQL ocurra en PHP\n",
      "\n"
     ]
    }
   ],
   "source": [
    "regex_pontuacao = re.compile(r'[^ \\w\\s]')\n",
    "print(remover(questoes_espanhol_sem_code_tag[0], regex_pontuacao))"
   ]
  },
  {
   "cell_type": "code",
   "execution_count": 19,
   "metadata": {},
   "outputs": [],
   "source": [
    "def minusculo(textos):\n",
    "    if type(textos) == str:\n",
    "        return textos.lower()\n",
    "    else:\n",
    "        return [texto.lower() for texto in textos]"
   ]
  },
  {
   "cell_type": "code",
   "execution_count": 20,
   "metadata": {},
   "outputs": [
    {
     "name": "stdout",
     "output_type": "stream",
     "text": [
      "las sentencias dinámicas son sentencias sql que se crean como cadenas de texto (strings) y en las que se insertan/concatenan valores obtenidos de alguna fuente (normalmente proveniente del usuario), lo que puede hacer que sean vulnerables a inyección sql si no se sanean las entradas, como por ejemplo:\n",
      "\n",
      "code\n",
      "\n",
      "eso es un ejemplo de una vulnerabilidad grave en la seguridad de una aplicación (web o no) porque si el usuario introdujese un valor como code nos encontraríamos con que la sentencia ejecutada sería:\n",
      "\n",
      "code\n",
      "\n",
      "y se eliminaría la tabla usuarios con todos los datos contenidos en ella. \n",
      "\n",
      "¿cómo puedo evitar que la inyección sql ocurra en php?\n",
      "\n"
     ]
    }
   ],
   "source": [
    "print(minusculo(questoes_espanhol_sem_code_tag[0]))"
   ]
  },
  {
   "cell_type": "code",
   "execution_count": 21,
   "metadata": {},
   "outputs": [
    {
     "name": "stdout",
     "output_type": "stream",
     "text": [
      "teste  e outro \n"
     ]
    }
   ],
   "source": [
    "regex_digitos = re.compile(r'\\d+')\n",
    "print(remover('teste 1234 e outro 43', regex_digitos))"
   ]
  },
  {
   "cell_type": "code",
   "execution_count": 22,
   "metadata": {},
   "outputs": [
    {
     "name": "stdout",
     "output_type": "stream",
     "text": [
      "Teste \n",
      " Teste2 \n"
     ]
    }
   ],
   "source": [
    "regex_espaco = re.compile(r' +')\n",
    "\n",
    "def substituir_por_espaco(textos, regex):\n",
    "    if type(textos) == str:\n",
    "        return regex.sub(' ', textos)\n",
    "    else:\n",
    "        return [regex.sub(' ', texto) for texto in textos]\n",
    "    \n",
    "print(substituir_por_espaco('Teste             \\n     Teste2           ', regex_espaco))"
   ]
  },
  {
   "cell_type": "code",
   "execution_count": 23,
   "metadata": {},
   "outputs": [
    {
     "name": "stdout",
     "output_type": "stream",
     "text": [
      "Teste                      Teste2           \n"
     ]
    }
   ],
   "source": [
    "regex_quebra_linha = re.compile(r'(\\n)')\n",
    "print(substituir_por_espaco('Teste      \\n\\n\\n       \\n     Teste2           ',regex_quebra_linha))"
   ]
  },
  {
   "cell_type": "code",
   "execution_count": 24,
   "metadata": {},
   "outputs": [],
   "source": [
    "questoes_port_sem_pont = remover(dados_portugues['sem_code_tag'], regex_pontuacao)\n",
    "questoes_port_sem_pont_minus = minusculo(questoes_port_sem_pont)\n",
    "questoes_port_sem_pont_minus_dig = remover(questoes_port_sem_pont_minus, regex_digitos)\n",
    "questoes_port_sem_quebra = substituir_por_espaco(questoes_port_sem_pont_minus_dig, regex_quebra_linha)\n",
    "questoes_port_espaco_duplicado = substituir_por_espaco(questoes_port_sem_quebra, regex_espaco)\n",
    "\n",
    "dados_portugues['questoes_tratadas'] = questoes_port_espaco_duplicado\n"
   ]
  },
  {
   "cell_type": "code",
   "execution_count": 25,
   "metadata": {},
   "outputs": [
    {
     "data": {
      "text/html": [
       "<div>\n",
       "<style scoped>\n",
       "    .dataframe tbody tr th:only-of-type {\n",
       "        vertical-align: middle;\n",
       "    }\n",
       "\n",
       "    .dataframe tbody tr th {\n",
       "        vertical-align: top;\n",
       "    }\n",
       "\n",
       "    .dataframe thead th {\n",
       "        text-align: right;\n",
       "    }\n",
       "</style>\n",
       "<table border=\"1\" class=\"dataframe\">\n",
       "  <thead>\n",
       "    <tr style=\"text-align: right;\">\n",
       "      <th></th>\n",
       "      <th>Id</th>\n",
       "      <th>Título</th>\n",
       "      <th>Questão</th>\n",
       "      <th>Tags</th>\n",
       "      <th>Pontuação</th>\n",
       "      <th>Visualizações</th>\n",
       "      <th>sem_code_tag</th>\n",
       "      <th>questoes_tratadas</th>\n",
       "    </tr>\n",
       "  </thead>\n",
       "  <tbody>\n",
       "    <tr>\n",
       "      <th>0</th>\n",
       "      <td>2402</td>\n",
       "      <td>Como fazer hash de senhas de forma segura?</td>\n",
       "      <td>&lt;p&gt;Se eu fizer o &lt;em&gt;&lt;a href=\"http://pt.wikipe...</td>\n",
       "      <td>&lt;hash&gt;&lt;segurança&gt;&lt;senhas&gt;&lt;criptografia&gt;</td>\n",
       "      <td>350</td>\n",
       "      <td>22367</td>\n",
       "      <td>Se eu fizer o hash de senhas antes de armazená...</td>\n",
       "      <td>se eu fizer o hash de senhas antes de armazená...</td>\n",
       "    </tr>\n",
       "    <tr>\n",
       "      <th>1</th>\n",
       "      <td>6441</td>\n",
       "      <td>Qual é a diferença entre INNER JOIN e OUTER JOIN?</td>\n",
       "      <td>&lt;p&gt;Qual é a diferença entre &lt;code&gt;INNER JOIN&lt;/...</td>\n",
       "      <td>&lt;sql&gt;&lt;join&gt;</td>\n",
       "      <td>276</td>\n",
       "      <td>176953</td>\n",
       "      <td>Qual é a diferença entre CODE e CODE? Podem me...</td>\n",
       "      <td>qual é a diferença entre code e code podem me ...</td>\n",
       "    </tr>\n",
       "    <tr>\n",
       "      <th>2</th>\n",
       "      <td>579</td>\n",
       "      <td>Por que não devemos usar funções do tipo mysql_*?</td>\n",
       "      <td>&lt;p&gt;Uma dúvida muito comum é por que devemos pa...</td>\n",
       "      <td>&lt;php&gt;&lt;mysql&gt;</td>\n",
       "      <td>226</td>\n",
       "      <td>9761</td>\n",
       "      <td>Uma dúvida muito comum é por que devemos parar...</td>\n",
       "      <td>uma dúvida muito comum é por que devemos parar...</td>\n",
       "    </tr>\n",
       "    <tr>\n",
       "      <th>3</th>\n",
       "      <td>2539</td>\n",
       "      <td>As mensagens de erro devem se desculpar?</td>\n",
       "      <td>&lt;p&gt;É comum encontrar uma mensagem de erro que ...</td>\n",
       "      <td>&lt;aplicação-web&gt;&lt;gui&gt;&lt;console&gt;&lt;ux&gt;</td>\n",
       "      <td>214</td>\n",
       "      <td>5075</td>\n",
       "      <td>É comum encontrar uma mensagem de erro que diz...</td>\n",
       "      <td>é comum encontrar uma mensagem de erro que diz...</td>\n",
       "    </tr>\n",
       "    <tr>\n",
       "      <th>4</th>\n",
       "      <td>17501</td>\n",
       "      <td>Qual é a diferença de API, biblioteca e Framew...</td>\n",
       "      <td>&lt;p&gt;Me parecem termos muito próximos e eventual...</td>\n",
       "      <td>&lt;api&gt;&lt;framework&gt;&lt;terminologia&gt;&lt;biblioteca&gt;</td>\n",
       "      <td>193</td>\n",
       "      <td>54191</td>\n",
       "      <td>Me parecem termos muito próximos e eventualmen...</td>\n",
       "      <td>me parecem termos muito próximos e eventualmen...</td>\n",
       "    </tr>\n",
       "  </tbody>\n",
       "</table>\n",
       "</div>"
      ],
      "text/plain": [
       "      Id                                             Título  \\\n",
       "0   2402         Como fazer hash de senhas de forma segura?   \n",
       "1   6441  Qual é a diferença entre INNER JOIN e OUTER JOIN?   \n",
       "2    579  Por que não devemos usar funções do tipo mysql_*?   \n",
       "3   2539           As mensagens de erro devem se desculpar?   \n",
       "4  17501  Qual é a diferença de API, biblioteca e Framew...   \n",
       "\n",
       "                                             Questão  \\\n",
       "0  <p>Se eu fizer o <em><a href=\"http://pt.wikipe...   \n",
       "1  <p>Qual é a diferença entre <code>INNER JOIN</...   \n",
       "2  <p>Uma dúvida muito comum é por que devemos pa...   \n",
       "3  <p>É comum encontrar uma mensagem de erro que ...   \n",
       "4  <p>Me parecem termos muito próximos e eventual...   \n",
       "\n",
       "                                         Tags  Pontuação  Visualizações  \\\n",
       "0     <hash><segurança><senhas><criptografia>        350          22367   \n",
       "1                                 <sql><join>        276         176953   \n",
       "2                                <php><mysql>        226           9761   \n",
       "3           <aplicação-web><gui><console><ux>        214           5075   \n",
       "4  <api><framework><terminologia><biblioteca>        193          54191   \n",
       "\n",
       "                                        sem_code_tag  \\\n",
       "0  Se eu fizer o hash de senhas antes de armazená...   \n",
       "1  Qual é a diferença entre CODE e CODE? Podem me...   \n",
       "2  Uma dúvida muito comum é por que devemos parar...   \n",
       "3  É comum encontrar uma mensagem de erro que diz...   \n",
       "4  Me parecem termos muito próximos e eventualmen...   \n",
       "\n",
       "                                   questoes_tratadas  \n",
       "0  se eu fizer o hash de senhas antes de armazená...  \n",
       "1  qual é a diferença entre code e code podem me ...  \n",
       "2  uma dúvida muito comum é por que devemos parar...  \n",
       "3  é comum encontrar uma mensagem de erro que diz...  \n",
       "4  me parecem termos muito próximos e eventualmen...  "
      ]
     },
     "execution_count": 25,
     "metadata": {},
     "output_type": "execute_result"
    }
   ],
   "source": [
    "dados_portugues.head()"
   ]
  },
  {
   "cell_type": "code",
   "execution_count": 26,
   "metadata": {},
   "outputs": [
    {
     "data": {
      "text/html": [
       "<div>\n",
       "<style scoped>\n",
       "    .dataframe tbody tr th:only-of-type {\n",
       "        vertical-align: middle;\n",
       "    }\n",
       "\n",
       "    .dataframe tbody tr th {\n",
       "        vertical-align: top;\n",
       "    }\n",
       "\n",
       "    .dataframe thead th {\n",
       "        text-align: right;\n",
       "    }\n",
       "</style>\n",
       "<table border=\"1\" class=\"dataframe\">\n",
       "  <thead>\n",
       "    <tr style=\"text-align: right;\">\n",
       "      <th></th>\n",
       "      <th>Id</th>\n",
       "      <th>Título</th>\n",
       "      <th>Questão</th>\n",
       "      <th>Tags</th>\n",
       "      <th>Pontuação</th>\n",
       "      <th>Visualizações</th>\n",
       "      <th>sem_code_tag</th>\n",
       "      <th>questoes_tratadas</th>\n",
       "    </tr>\n",
       "  </thead>\n",
       "  <tbody>\n",
       "    <tr>\n",
       "      <th>0</th>\n",
       "      <td>11227809</td>\n",
       "      <td>Why is it faster to process a sorted array tha...</td>\n",
       "      <td>&lt;p&gt;Here is a piece of C++ code that seems very...</td>\n",
       "      <td>&lt;java&gt;&lt;c++&gt;&lt;performance&gt;&lt;optimization&gt;&lt;branch-...</td>\n",
       "      <td>23057</td>\n",
       "      <td>1358574</td>\n",
       "      <td>Here is a piece of C++ code that seems very pe...</td>\n",
       "      <td>here is a piece of c code that seems very pecu...</td>\n",
       "    </tr>\n",
       "    <tr>\n",
       "      <th>1</th>\n",
       "      <td>927358</td>\n",
       "      <td>How do I undo the most recent local commits in...</td>\n",
       "      <td>&lt;p&gt;I accidentally committed the wrong files to...</td>\n",
       "      <td>&lt;git&gt;&lt;version-control&gt;&lt;git-commit&gt;&lt;undo&gt;</td>\n",
       "      <td>19640</td>\n",
       "      <td>7906137</td>\n",
       "      <td>I accidentally committed the wrong files to Gi...</td>\n",
       "      <td>i accidentally committed the wrong files to gi...</td>\n",
       "    </tr>\n",
       "    <tr>\n",
       "      <th>2</th>\n",
       "      <td>2003505</td>\n",
       "      <td>How do I delete a Git branch locally and remot...</td>\n",
       "      <td>&lt;p&gt;I want to delete a branch both locally and ...</td>\n",
       "      <td>&lt;git&gt;&lt;git-branch&gt;&lt;git-remote&gt;</td>\n",
       "      <td>15249</td>\n",
       "      <td>6940906</td>\n",
       "      <td>I want to delete a branch both locally and rem...</td>\n",
       "      <td>i want to delete a branch both locally and rem...</td>\n",
       "    </tr>\n",
       "    <tr>\n",
       "      <th>3</th>\n",
       "      <td>292357</td>\n",
       "      <td>What is the difference between 'git pull' and ...</td>\n",
       "      <td>&lt;blockquote&gt;\\n  &lt;p&gt;&lt;strong&gt;Moderator Note:&lt;/st...</td>\n",
       "      <td>&lt;git&gt;&lt;git-pull&gt;&lt;git-fetch&gt;</td>\n",
       "      <td>11008</td>\n",
       "      <td>2543052</td>\n",
       "      <td>\\n  Moderator Note: Given that this question h...</td>\n",
       "      <td>moderator note given that this question has a...</td>\n",
       "    </tr>\n",
       "    <tr>\n",
       "      <th>4</th>\n",
       "      <td>477816</td>\n",
       "      <td>What is the correct JSON content type?</td>\n",
       "      <td>&lt;p&gt;I've been messing around with &lt;a href=\"http...</td>\n",
       "      <td>&lt;json&gt;&lt;http-headers&gt;&lt;content-type&gt;</td>\n",
       "      <td>9701</td>\n",
       "      <td>2478940</td>\n",
       "      <td>I've been messing around with JSON for some ti...</td>\n",
       "      <td>ive been messing around with json for some tim...</td>\n",
       "    </tr>\n",
       "  </tbody>\n",
       "</table>\n",
       "</div>"
      ],
      "text/plain": [
       "         Id                                             Título  \\\n",
       "0  11227809  Why is it faster to process a sorted array tha...   \n",
       "1    927358  How do I undo the most recent local commits in...   \n",
       "2   2003505  How do I delete a Git branch locally and remot...   \n",
       "3    292357  What is the difference between 'git pull' and ...   \n",
       "4    477816             What is the correct JSON content type?   \n",
       "\n",
       "                                             Questão  \\\n",
       "0  <p>Here is a piece of C++ code that seems very...   \n",
       "1  <p>I accidentally committed the wrong files to...   \n",
       "2  <p>I want to delete a branch both locally and ...   \n",
       "3  <blockquote>\\n  <p><strong>Moderator Note:</st...   \n",
       "4  <p>I've been messing around with <a href=\"http...   \n",
       "\n",
       "                                                Tags  Pontuação  \\\n",
       "0  <java><c++><performance><optimization><branch-...      23057   \n",
       "1           <git><version-control><git-commit><undo>      19640   \n",
       "2                      <git><git-branch><git-remote>      15249   \n",
       "3                         <git><git-pull><git-fetch>      11008   \n",
       "4                 <json><http-headers><content-type>       9701   \n",
       "\n",
       "   Visualizações                                       sem_code_tag  \\\n",
       "0        1358574  Here is a piece of C++ code that seems very pe...   \n",
       "1        7906137  I accidentally committed the wrong files to Gi...   \n",
       "2        6940906  I want to delete a branch both locally and rem...   \n",
       "3        2543052  \\n  Moderator Note: Given that this question h...   \n",
       "4        2478940  I've been messing around with JSON for some ti...   \n",
       "\n",
       "                                   questoes_tratadas  \n",
       "0  here is a piece of c code that seems very pecu...  \n",
       "1  i accidentally committed the wrong files to gi...  \n",
       "2  i want to delete a branch both locally and rem...  \n",
       "3   moderator note given that this question has a...  \n",
       "4  ive been messing around with json for some tim...  "
      ]
     },
     "execution_count": 26,
     "metadata": {},
     "output_type": "execute_result"
    }
   ],
   "source": [
    "questoes_ing_sem_pont = remover(dados_ingles['sem_code_tag'], regex_pontuacao)\n",
    "questoes_ing_sem_pont_minus = minusculo(questoes_ing_sem_pont)\n",
    "questoes_ing_sem_pont_minus_dig = remover(questoes_ing_sem_pont_minus, regex_digitos)\n",
    "questoes_ing_sem_quebra = substituir_por_espaco(questoes_ing_sem_pont_minus_dig, regex_quebra_linha)\n",
    "questoes_ing_espaco_duplicado = substituir_por_espaco(questoes_ing_sem_quebra, regex_espaco)\n",
    "\n",
    "dados_ingles['questoes_tratadas'] = questoes_ing_espaco_duplicado\n",
    "\n",
    "dados_ingles.head()\n"
   ]
  },
  {
   "cell_type": "code",
   "execution_count": 27,
   "metadata": {},
   "outputs": [
    {
     "data": {
      "text/html": [
       "<div>\n",
       "<style scoped>\n",
       "    .dataframe tbody tr th:only-of-type {\n",
       "        vertical-align: middle;\n",
       "    }\n",
       "\n",
       "    .dataframe tbody tr th {\n",
       "        vertical-align: top;\n",
       "    }\n",
       "\n",
       "    .dataframe thead th {\n",
       "        text-align: right;\n",
       "    }\n",
       "</style>\n",
       "<table border=\"1\" class=\"dataframe\">\n",
       "  <thead>\n",
       "    <tr style=\"text-align: right;\">\n",
       "      <th></th>\n",
       "      <th>Id</th>\n",
       "      <th>Título</th>\n",
       "      <th>Questão</th>\n",
       "      <th>Tags</th>\n",
       "      <th>Pontuação</th>\n",
       "      <th>Visualizações</th>\n",
       "      <th>sem_code_tag</th>\n",
       "      <th>questoes_tratadas</th>\n",
       "    </tr>\n",
       "  </thead>\n",
       "  <tbody>\n",
       "    <tr>\n",
       "      <th>0</th>\n",
       "      <td>18232</td>\n",
       "      <td>¿Cómo evitar la inyección SQL en PHP?</td>\n",
       "      <td>&lt;p&gt;Las sentencias dinámicas son sentencias SQL...</td>\n",
       "      <td>&lt;php&gt;&lt;mysql&gt;&lt;sql&gt;&lt;seguridad&gt;&lt;inyección-sql&gt;</td>\n",
       "      <td>169</td>\n",
       "      <td>38614</td>\n",
       "      <td>Las sentencias dinámicas son sentencias SQL qu...</td>\n",
       "      <td>las sentencias dinámicas son sentencias sql qu...</td>\n",
       "    </tr>\n",
       "    <tr>\n",
       "      <th>1</th>\n",
       "      <td>197</td>\n",
       "      <td>¿Por qué mis programas no pueden hacer cálculo...</td>\n",
       "      <td>&lt;p&gt;Unas veces los cálculos funcionan correctam...</td>\n",
       "      <td>&lt;matemáticas&gt;&lt;coma-flotante&gt;&lt;lenguaje-agnóstico&gt;</td>\n",
       "      <td>141</td>\n",
       "      <td>3860</td>\n",
       "      <td>Unas veces los cálculos funcionan correctament...</td>\n",
       "      <td>unas veces los cálculos funcionan correctament...</td>\n",
       "    </tr>\n",
       "    <tr>\n",
       "      <th>2</th>\n",
       "      <td>36</td>\n",
       "      <td>¿Cuál es la diferencia entre un inner y un out...</td>\n",
       "      <td>&lt;p&gt;¿Cuál es la diferencia entre un &lt;code&gt;inner...</td>\n",
       "      <td>&lt;mysql&gt;&lt;sql&gt;&lt;join&gt;</td>\n",
       "      <td>97</td>\n",
       "      <td>53627</td>\n",
       "      <td>¿Cuál es la diferencia entre un CODE y un CODE...</td>\n",
       "      <td>cuál es la diferencia entre un code y un code ...</td>\n",
       "    </tr>\n",
       "    <tr>\n",
       "      <th>3</th>\n",
       "      <td>29177</td>\n",
       "      <td>¿Por qué es considerado una mala práctica util...</td>\n",
       "      <td>&lt;p&gt;La mayoría de nosotros decimos, (muchas vec...</td>\n",
       "      <td>&lt;variables&gt;&lt;variables-globales&gt;&lt;patrones-de-di...</td>\n",
       "      <td>89</td>\n",
       "      <td>9987</td>\n",
       "      <td>La mayoría de nosotros decimos, (muchas veces ...</td>\n",
       "      <td>la mayoría de nosotros decimos muchas veces si...</td>\n",
       "    </tr>\n",
       "    <tr>\n",
       "      <th>4</th>\n",
       "      <td>142</td>\n",
       "      <td>Validar un email en JavaScript que acepte todo...</td>\n",
       "      <td>&lt;h3&gt;Pregunta&lt;/h3&gt;\\n\\n&lt;p&gt;¿Cómo validar un e-mai...</td>\n",
       "      <td>&lt;javascript&gt;&lt;validación&gt;&lt;email&gt;&lt;regex&gt;</td>\n",
       "      <td>87</td>\n",
       "      <td>73129</td>\n",
       "      <td>Pregunta\\n\\n¿Cómo validar un e-mail que acepte...</td>\n",
       "      <td>pregunta cómo validar un email que acepte todo...</td>\n",
       "    </tr>\n",
       "  </tbody>\n",
       "</table>\n",
       "</div>"
      ],
      "text/plain": [
       "      Id                                             Título  \\\n",
       "0  18232              ¿Cómo evitar la inyección SQL en PHP?   \n",
       "1    197  ¿Por qué mis programas no pueden hacer cálculo...   \n",
       "2     36  ¿Cuál es la diferencia entre un inner y un out...   \n",
       "3  29177  ¿Por qué es considerado una mala práctica util...   \n",
       "4    142  Validar un email en JavaScript que acepte todo...   \n",
       "\n",
       "                                             Questão  \\\n",
       "0  <p>Las sentencias dinámicas son sentencias SQL...   \n",
       "1  <p>Unas veces los cálculos funcionan correctam...   \n",
       "2  <p>¿Cuál es la diferencia entre un <code>inner...   \n",
       "3  <p>La mayoría de nosotros decimos, (muchas vec...   \n",
       "4  <h3>Pregunta</h3>\\n\\n<p>¿Cómo validar un e-mai...   \n",
       "\n",
       "                                                Tags  Pontuação  \\\n",
       "0        <php><mysql><sql><seguridad><inyección-sql>        169   \n",
       "1   <matemáticas><coma-flotante><lenguaje-agnóstico>        141   \n",
       "2                                 <mysql><sql><join>         97   \n",
       "3  <variables><variables-globales><patrones-de-di...         89   \n",
       "4             <javascript><validación><email><regex>         87   \n",
       "\n",
       "   Visualizações                                       sem_code_tag  \\\n",
       "0          38614  Las sentencias dinámicas son sentencias SQL qu...   \n",
       "1           3860  Unas veces los cálculos funcionan correctament...   \n",
       "2          53627  ¿Cuál es la diferencia entre un CODE y un CODE...   \n",
       "3           9987  La mayoría de nosotros decimos, (muchas veces ...   \n",
       "4          73129  Pregunta\\n\\n¿Cómo validar un e-mail que acepte...   \n",
       "\n",
       "                                   questoes_tratadas  \n",
       "0  las sentencias dinámicas son sentencias sql qu...  \n",
       "1  unas veces los cálculos funcionan correctament...  \n",
       "2  cuál es la diferencia entre un code y un code ...  \n",
       "3  la mayoría de nosotros decimos muchas veces si...  \n",
       "4  pregunta cómo validar un email que acepte todo...  "
      ]
     },
     "execution_count": 27,
     "metadata": {},
     "output_type": "execute_result"
    }
   ],
   "source": [
    "questoes_esp_sem_pont = remover(dados_espanhol['sem_code_tag'], regex_pontuacao)\n",
    "questoes_esp_sem_pont_minus = minusculo(questoes_esp_sem_pont)\n",
    "questoes_esp_sem_pont_minus_dig = remover(questoes_esp_sem_pont_minus, regex_digitos)\n",
    "questoes_esp_sem_quebra = substituir_por_espaco(questoes_esp_sem_pont_minus_dig, regex_quebra_linha)\n",
    "questoes_esp_espaco_duplicado = substituir_por_espaco(questoes_esp_sem_quebra, regex_espaco)\n",
    "\n",
    "dados_espanhol['questoes_tratadas'] = questoes_esp_espaco_duplicado\n",
    "\n",
    "dados_espanhol.head()"
   ]
  },
  {
   "cell_type": "code",
   "execution_count": 29,
   "metadata": {},
   "outputs": [
    {
     "name": "stdout",
     "output_type": "stream",
     "text": [
      "[('t', 'e'), ('e', 's'), ('s', 't'), ('t', 'e')]\n"
     ]
    }
   ],
   "source": [
    "from nltk.util import bigrams\n",
    "\n",
    "texto_teste = 'teste'\n",
    "print(list(bigrams(texto_teste)))"
   ]
  },
  {
   "cell_type": "code",
   "execution_count": 30,
   "metadata": {},
   "outputs": [
    {
     "name": "stdout",
     "output_type": "stream",
     "text": [
      "[('<s>', 't'), ('t', 'e'), ('e', 's'), ('s', 't'), ('t', 'e'), ('e', '</s>')]\n"
     ]
    }
   ],
   "source": [
    "from nltk.lm.preprocessing import pad_both_ends\n",
    "\n",
    "print(list(bigrams(pad_both_ends(texto_teste, n=2))))"
   ]
  },
  {
   "cell_type": "code",
   "execution_count": 31,
   "metadata": {},
   "outputs": [],
   "source": [
    "dados_portugues['idioma'] = 'port'\n",
    "dados_espanhol['idioma'] = 'esp'\n",
    "dados_ingles['idioma'] = 'ing'"
   ]
  },
  {
   "cell_type": "code",
   "execution_count": 32,
   "metadata": {},
   "outputs": [],
   "source": [
    "from sklearn.model_selection import train_test_split\n",
    "\n",
    "port_treino, port_teste = train_test_split(dados_portugues['questoes_tratadas'], test_size=0.2, random_state=123)"
   ]
  },
  {
   "cell_type": "code",
   "execution_count": 34,
   "metadata": {},
   "outputs": [],
   "source": [
    "esp_treino, esp_teste = train_test_split(dados_espanhol['questoes_tratadas'], test_size=0.2, random_state=123)"
   ]
  },
  {
   "cell_type": "code",
   "execution_count": 35,
   "metadata": {},
   "outputs": [],
   "source": [
    "ing_treino, ing_teste = train_test_split(dados_ingles['questoes_tratadas'], test_size=0.2, random_state=123)"
   ]
  },
  {
   "cell_type": "code",
   "execution_count": 36,
   "metadata": {},
   "outputs": [],
   "source": [
    "todas_questoes_port = ' '.join(port_treino)\n",
    "todas_questoes_esp = ' '.join(esp_treino)\n",
    "todas_questoes_ing = ' '.join(ing_treino)"
   ]
  },
  {
   "cell_type": "code",
   "execution_count": 37,
   "metadata": {},
   "outputs": [],
   "source": [
    "from nltk.tokenize import WhitespaceTokenizer\n",
    "\n",
    "todas_palavras_port = WhitespaceTokenizer().tokenize(todas_questoes_port)\n",
    "todas_palavras_esp = WhitespaceTokenizer().tokenize(todas_questoes_esp)\n",
    "todas_palavras_ing = WhitespaceTokenizer().tokenize(todas_questoes_ing)"
   ]
  },
  {
   "cell_type": "code",
   "execution_count": 38,
   "metadata": {},
   "outputs": [],
   "source": [
    "from nltk.lm.preprocessing import padded_everygram_pipeline\n",
    "\n",
    "port_treino_bigram, vocab_port = padded_everygram_pipeline(2, todas_palavras_port)\n",
    "esp_treino_bigram, vocab_esp = padded_everygram_pipeline(2, todas_palavras_esp)\n",
    "ing_treino_bigram, vocab_ing = padded_everygram_pipeline(2, todas_palavras_ing)"
   ]
  },
  {
   "cell_type": "code",
   "execution_count": 39,
   "metadata": {},
   "outputs": [],
   "source": [
    "from nltk.lm import MLE\n",
    "\n",
    "modelo_port = MLE(2)\n",
    "modelo_port.fit(port_treino_bigram, vocab_port)"
   ]
  },
  {
   "cell_type": "code",
   "execution_count": 43,
   "metadata": {},
   "outputs": [
    {
     "data": {
      "text/plain": [
       "['</s>', 't', 'r', 'a', 'r', '</s>', '</s>', 'ç']"
      ]
     },
     "execution_count": 43,
     "metadata": {},
     "output_type": "execute_result"
    }
   ],
   "source": [
    "modelo_port.generate(num_words=8)"
   ]
  },
  {
   "cell_type": "code",
   "execution_count": 45,
   "metadata": {},
   "outputs": [
    {
     "data": {
      "text/plain": [
       "dict_items([('</s>', 2741), ('a', 2052), ('b', 144), ('p', 722), ('o', 854), ('e', 1503), ('u', 227), ('v', 16), ('í', 13), ('i', 290), ('ó', 37), ('â', 11), ('l', 23), ('é', 76), ('ú', 5), ('ã', 4), ('á', 32), ('s', 9), ('m', 25), ('g', 4), ('w', 1), ('_', 1), ('y', 10), ('d', 3)])"
      ]
     },
     "execution_count": 45,
     "metadata": {},
     "output_type": "execute_result"
    }
   ],
   "source": [
    "from nltk.lm import NgramCounter\n",
    "\n",
    "modelo_port.counts[['m']].items()"
   ]
  },
  {
   "cell_type": "code",
   "execution_count": 47,
   "metadata": {},
   "outputs": [
    {
     "name": "stdout",
     "output_type": "stream",
     "text": [
      "[[('<s>', 'b'), ('b', 'o'), ('o', 'm'), ('m', '</s>')], [('<s>', 'd'), ('d', 'i'), ('i', 'a'), ('a', '</s>')]]\n"
     ]
    }
   ],
   "source": [
    "texto = 'bom dia'\n",
    "palavras = WhitespaceTokenizer().tokenize(texto)\n",
    "palavras_fakechar = [list(pad_both_ends(palavra, n=2)) for palavra in palavras]\n",
    "palavras_bigrams = [list(bigrams(palavra)) for palavra in palavras_fakechar]\n",
    "print(palavras_bigrams)"
   ]
  },
  {
   "cell_type": "code",
   "execution_count": 48,
   "metadata": {},
   "outputs": [
    {
     "name": "stdout",
     "output_type": "stream",
     "text": [
      "15.299125474590992\n",
      "8.118290440853844\n"
     ]
    }
   ],
   "source": [
    "# quanto menor o valor melhor.\n",
    "print(modelo_port.perplexity(palavras_bigrams[0]))\n",
    "print(modelo_port.perplexity(palavras_bigrams[1]))"
   ]
  },
  {
   "cell_type": "code",
   "execution_count": 49,
   "metadata": {},
   "outputs": [],
   "source": [
    "def treinar_modelo_mle(lista_texto):\n",
    "    todas_questoes = ' '.join(lista_texto)\n",
    "    todas_palavras = WhitespaceTokenizer().tokenize(todas_questoes)\n",
    "    bigrams, vocabulario = padded_everygram_pipeline(2, todas_palavras)\n",
    "    modelo = MLE(2)\n",
    "    modelo.fit(bigrams, vocabulario)\n",
    "    return modelo"
   ]
  },
  {
   "cell_type": "code",
   "execution_count": 50,
   "metadata": {},
   "outputs": [],
   "source": [
    "modelo_port_2 = treinar_modelo_mle(port_treino)"
   ]
  },
  {
   "cell_type": "code",
   "execution_count": 51,
   "metadata": {},
   "outputs": [],
   "source": [
    "modelo_ing = treinar_modelo_mle(ing_treino)\n",
    "modelo_esp = treinar_modelo_mle(esp_treino)"
   ]
  },
  {
   "cell_type": "code",
   "execution_count": 52,
   "metadata": {},
   "outputs": [],
   "source": [
    "def calcular_perplexidade(modelo, texto):\n",
    "    perplexidade = 0\n",
    "    palavras = WhitespaceTokenizer().tokenize(texto)\n",
    "    palavras_fakechar = [list(pad_both_ends(palavra, n=2)) for palavra in palavras]\n",
    "    palavras_bigrams = [list(bigrams(palavra)) for palavra in palavras_fakechar]\n",
    "\n",
    "    for palavra in palavras_bigrams:\n",
    "        perplexidade += modelo.perplexity(palavra)\n",
    "    return perplexidade"
   ]
  },
  {
   "cell_type": "code",
   "execution_count": 56,
   "metadata": {},
   "outputs": [
    {
     "name": "stdout",
     "output_type": "stream",
     "text": [
      "30.1620889594439\n"
     ]
    }
   ],
   "source": [
    "print(calcular_perplexidade(modelo_ing, 'good morning'))"
   ]
  },
  {
   "cell_type": "code",
   "execution_count": 57,
   "metadata": {},
   "outputs": [
    {
     "name": "stdout",
     "output_type": "stream",
     "text": [
      "2006.9786364086417\n"
     ]
    }
   ],
   "source": [
    "print(calcular_perplexidade(modelo_port, port_teste.iloc[0]))"
   ]
  },
  {
   "cell_type": "code",
   "execution_count": 58,
   "metadata": {},
   "outputs": [
    {
     "data": {
      "text/plain": [
       "'até a época em que os computadores eram puramente mecânicos e eram programados por cartões perfurados eu entendo como funciona depois quando surgiram os primeiros computadores digitais operados com válvulas e relés fica mais complicado de compreender como eram feitas as programações imagino que deveria haver algo semelhante a um compartimento com uma matriz de relés semelhante aos cartões perfurados pré programada que continha um programa fixo e único a ser executado pela máquina quando fosse preciso trocar o programa os programadores apenas rearranjavam as válvulas e a máquina continuava a trabalhar como surgiu essa noção que temos de programação hoje que o programador digita códigos em um editor de texto e compila eu não consigo imaginar como chegou a esse ponto por exemplo o assembly ele é apenas traduzido de textos para binário pelo assembler mas poxa seria preciso ter outra linguagem de programação para se criar o assembler suponha que só existam os computadores controlados por relés e válvulas como que alguém conseguiria escrever um código em assembly sendo que não existia editor de textos nem nada o resultado de uma montagem é outro arquivo no formato texto com s e s apenas ou são impulsos elétricos enviados para a máquina valvulada '"
      ]
     },
     "execution_count": 58,
     "metadata": {},
     "output_type": "execute_result"
    }
   ],
   "source": [
    "port_teste.iloc[0]"
   ]
  },
  {
   "cell_type": "code",
   "execution_count": 60,
   "metadata": {},
   "outputs": [
    {
     "name": "stdout",
     "output_type": "stream",
     "text": [
      "inf\n"
     ]
    }
   ],
   "source": [
    "print(calcular_perplexidade(modelo_ing, port_teste.iloc[0]))"
   ]
  },
  {
   "cell_type": "code",
   "execution_count": 59,
   "metadata": {},
   "outputs": [],
   "source": [
    "from nltk.lm import Laplace\n",
    "\n",
    "def treinar_modelo_Laplace(lista_texto):\n",
    "    todas_questoes = ' '.join(lista_texto)\n",
    "    todas_palavras = WhitespaceTokenizer().tokenize(todas_questoes)\n",
    "    bigrams, vocabulario = padded_everygram_pipeline(2, todas_palavras)\n",
    "    modelo = Laplace(2)\n",
    "    modelo.fit(bigrams, vocabulario)\n",
    "    return modelo"
   ]
  },
  {
   "cell_type": "code",
   "execution_count": 61,
   "metadata": {},
   "outputs": [
    {
     "name": "stdout",
     "output_type": "stream",
     "text": [
      "5876.837588345698\n"
     ]
    }
   ],
   "source": [
    "modelo_ing_Laplace = treinar_modelo_Laplace(ing_treino)\n",
    "print(calcular_perplexidade(modelo_ing_Laplace, port_teste.iloc[0]))"
   ]
  },
  {
   "cell_type": "code",
   "execution_count": 62,
   "metadata": {},
   "outputs": [
    {
     "name": "stdout",
     "output_type": "stream",
     "text": [
      "2009.1937946178912\n"
     ]
    }
   ],
   "source": [
    "modelo_port_Laplace = treinar_modelo_Laplace(port_treino)\n",
    "print(calcular_perplexidade(modelo_port_Laplace, port_teste.iloc[0]))"
   ]
  },
  {
   "cell_type": "code",
   "execution_count": 63,
   "metadata": {},
   "outputs": [
    {
     "name": "stdout",
     "output_type": "stream",
     "text": [
      "3461.1385826250985\n"
     ]
    }
   ],
   "source": [
    "modelo_esp_Laplace = treinar_modelo_Laplace(esp_treino)\n",
    "print(calcular_perplexidade(modelo_esp_Laplace, port_teste.iloc[0]))"
   ]
  },
  {
   "cell_type": "code",
   "execution_count": 64,
   "metadata": {},
   "outputs": [],
   "source": [
    "def atribui_idioma(lista_texto):\n",
    "    idioma = []\n",
    "    for texto in lista_texto:\n",
    "        portugues = calcular_perplexidade(modelo_port_Laplace, texto)\n",
    "        ingles = calcular_perplexidade(modelo_ing_Laplace, texto)\n",
    "        espanhol = calcular_perplexidade(modelo_esp_Laplace, texto)\n",
    "        if ingles >= portugues <= espanhol:\n",
    "            idioma.append('portugues')\n",
    "        elif portugues > ingles < espanhol:\n",
    "            idioma.append('ingles')\n",
    "        else:\n",
    "            idioma.append('espanhol')\n",
    "    return idioma"
   ]
  },
  {
   "cell_type": "code",
   "execution_count": 65,
   "metadata": {},
   "outputs": [],
   "source": [
    "resultados_portugues = atribui_idioma(port_teste)"
   ]
  },
  {
   "cell_type": "code",
   "execution_count": 66,
   "metadata": {},
   "outputs": [],
   "source": [
    "resultados_ingles = atribui_idioma(ing_teste)"
   ]
  },
  {
   "cell_type": "code",
   "execution_count": 72,
   "metadata": {},
   "outputs": [],
   "source": [
    "resultados_espanhol = atribui_idioma(esp_teste)"
   ]
  },
  {
   "cell_type": "code",
   "execution_count": 73,
   "metadata": {},
   "outputs": [
    {
     "data": {
      "text/plain": [
       "['portugues',\n",
       " 'portugues',\n",
       " 'portugues',\n",
       " 'portugues',\n",
       " 'portugues',\n",
       " 'portugues',\n",
       " 'portugues',\n",
       " 'portugues',\n",
       " 'portugues',\n",
       " 'portugues',\n",
       " 'portugues',\n",
       " 'portugues',\n",
       " 'portugues',\n",
       " 'portugues',\n",
       " 'portugues',\n",
       " 'portugues',\n",
       " 'portugues',\n",
       " 'portugues',\n",
       " 'portugues',\n",
       " 'portugues',\n",
       " 'portugues',\n",
       " 'portugues',\n",
       " 'portugues',\n",
       " 'portugues',\n",
       " 'portugues',\n",
       " 'portugues',\n",
       " 'portugues',\n",
       " 'portugues',\n",
       " 'portugues',\n",
       " 'portugues',\n",
       " 'portugues',\n",
       " 'portugues',\n",
       " 'portugues',\n",
       " 'portugues',\n",
       " 'portugues',\n",
       " 'portugues',\n",
       " 'portugues',\n",
       " 'portugues',\n",
       " 'portugues',\n",
       " 'portugues',\n",
       " 'portugues',\n",
       " 'portugues',\n",
       " 'portugues',\n",
       " 'portugues',\n",
       " 'portugues',\n",
       " 'portugues',\n",
       " 'portugues',\n",
       " 'portugues',\n",
       " 'portugues',\n",
       " 'portugues',\n",
       " 'portugues',\n",
       " 'portugues',\n",
       " 'portugues',\n",
       " 'portugues',\n",
       " 'portugues',\n",
       " 'portugues',\n",
       " 'portugues',\n",
       " 'portugues',\n",
       " 'portugues',\n",
       " 'portugues',\n",
       " 'portugues',\n",
       " 'portugues',\n",
       " 'portugues',\n",
       " 'portugues',\n",
       " 'portugues',\n",
       " 'portugues',\n",
       " 'portugues',\n",
       " 'portugues',\n",
       " 'portugues',\n",
       " 'portugues',\n",
       " 'portugues',\n",
       " 'portugues',\n",
       " 'portugues',\n",
       " 'portugues',\n",
       " 'portugues',\n",
       " 'portugues',\n",
       " 'portugues',\n",
       " 'portugues',\n",
       " 'portugues',\n",
       " 'portugues',\n",
       " 'portugues',\n",
       " 'portugues',\n",
       " 'portugues',\n",
       " 'portugues',\n",
       " 'portugues',\n",
       " 'portugues',\n",
       " 'portugues',\n",
       " 'portugues',\n",
       " 'portugues',\n",
       " 'portugues',\n",
       " 'portugues',\n",
       " 'portugues',\n",
       " 'portugues',\n",
       " 'portugues',\n",
       " 'portugues',\n",
       " 'portugues',\n",
       " 'portugues',\n",
       " 'portugues',\n",
       " 'portugues',\n",
       " 'portugues']"
      ]
     },
     "execution_count": 73,
     "metadata": {},
     "output_type": "execute_result"
    }
   ],
   "source": [
    "resultados_portugues"
   ]
  },
  {
   "cell_type": "code",
   "execution_count": 75,
   "metadata": {},
   "outputs": [
    {
     "name": "stdout",
     "output_type": "stream",
     "text": [
      "100.0\n",
      "100.0\n",
      "97.0\n"
     ]
    }
   ],
   "source": [
    "taxa_port = (resultados_portugues.count('portugues') / len(resultados_portugues)) * 100\n",
    "print(taxa_port)\n",
    "taxa_ing = (resultados_ingles.count('ingles') / len(resultados_ingles)) * 100\n",
    "print(taxa_ing)\n",
    "taxa_esp = (resultados_espanhol.count('espanhol') / len(resultados_espanhol)) * 100\n",
    "print(taxa_esp)\n"
   ]
  },
  {
   "cell_type": "code",
   "execution_count": null,
   "metadata": {},
   "outputs": [],
   "source": []
  }
 ],
 "metadata": {
  "kernelspec": {
   "display_name": "Python 3",
   "language": "python",
   "name": "python3"
  },
  "language_info": {
   "codemirror_mode": {
    "name": "ipython",
    "version": 3
   },
   "file_extension": ".py",
   "mimetype": "text/x-python",
   "name": "python",
   "nbconvert_exporter": "python",
   "pygments_lexer": "ipython3",
   "version": "3.10.8"
  },
  "orig_nbformat": 4,
  "vscode": {
   "interpreter": {
    "hash": "f3d558277e1468fbd6155e81dfccdb965f1cd2a6d9d32bde37de1e4b5da945bd"
   }
  }
 },
 "nbformat": 4,
 "nbformat_minor": 2
}
